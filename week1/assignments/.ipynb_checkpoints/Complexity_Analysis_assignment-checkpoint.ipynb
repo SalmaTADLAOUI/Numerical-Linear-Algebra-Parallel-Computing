{
 "cells": [
  {
   "cell_type": "markdown",
   "metadata": {},
   "source": [
    "# 1.Introduction"
   ]
  },
  {
   "cell_type": "markdown",
   "metadata": {},
   "source": [
    "## 1.1 Describe solution 1"
   ]
  },
  {
   "cell_type": "code",
   "execution_count": 1,
   "metadata": {},
   "outputs": [],
   "source": [
    "def count_divisors1(n):\n",
    "    count= 0\n",
    "    d=1\n",
    "    while d<=n:\n",
    "        if n%d == 0:\n",
    "            count +=1\n",
    "        d +=1\n",
    "    return count"
   ]
  },
  {
   "cell_type": "markdown",
   "metadata": {},
   "source": [
    "This solution describes a function to count the divisors of a number n. First, we initialize an integer count to zero, which will be used to count how many divisors n has. Then, we use an integer d to iterate from 1 to n in a while loop. Inside the loop, we check if d divides n without a remainder. If it does, we increment the variable count. We continue looping until d is greater than n. Finally, we return the number of divisors n has, which is stored in count."
   ]
  },
  {
   "cell_type": "markdown",
   "metadata": {},
   "source": [
    "## 1.2 Describe solution 2"
   ]
  },
  {
   "cell_type": "code",
   "execution_count": 2,
   "metadata": {},
   "outputs": [],
   "source": [
    "def count_divisors2(n):\n",
    "    count= 0\n",
    "    d=1\n",
    "    while d*d<=n:\n",
    "        if n%d == 0:\n",
    "            count +=1 if n / d == d else 2\n",
    "        d +=1\n",
    "    return count"
   ]
  },
  {
   "cell_type": "markdown",
   "metadata": {},
   "source": [
    "This solution describes another function to count the divisors of a number n. Like the previous solution, we initialize an integer count to zero, which will be used to count how many divisors n has. Then, we use an integer d to iterate from 1 to n in a while loop. However, in this solution, we only iterate through possible divisors up to the square root of n.\n",
    "Inside the loop, we check if d divides n without a remainder. If it does, we check if d is a perfect square. If it is, we increment the variable count by 1 because d is a divisor of n and the square root of n is also a divisor. Otherwise, we add 2 to the variable count because both d and n/d are divisors of n.\n",
    "We continue looping until d is greater than the square root of n. Finally, we return the number of divisors n has, which is stored in count."
   ]
  },
  {
   "cell_type": "markdown",
   "metadata": {},
   "source": [
    "## 1.3 Run the two programs for different values of n and measure which algorithm is faster"
   ]
  },
  {
   "cell_type": "code",
   "execution_count": 3,
   "metadata": {},
   "outputs": [],
   "source": [
    "%load_ext line_profiler"
   ]
  },
  {
   "cell_type": "code",
   "execution_count": 4,
   "metadata": {},
   "outputs": [
    {
     "name": "stdout",
     "output_type": "stream",
     "text": [
      "for n = 10\n",
      "2.32 µs ± 332 ns per loop (mean ± std. dev. of 7 runs, 1000000 loops each)\n",
      "1.25 µs ± 225 ns per loop (mean ± std. dev. of 7 runs, 1000000 loops each)\n"
     ]
    }
   ],
   "source": [
    "print(\"for n = 10\")\n",
    "%timeit count_divisors1(10)\n",
    "%timeit count_divisors2(10)"
   ]
  },
  {
   "cell_type": "code",
   "execution_count": 5,
   "metadata": {},
   "outputs": [
    {
     "name": "stdout",
     "output_type": "stream",
     "text": [
      "for n = 100\n",
      "16.9 µs ± 2.08 µs per loop (mean ± std. dev. of 7 runs, 10000 loops each)\n",
      "2.89 µs ± 647 ns per loop (mean ± std. dev. of 7 runs, 100000 loops each)\n"
     ]
    }
   ],
   "source": [
    "print(\"for n = 100\")\n",
    "%timeit count_divisors1(100)\n",
    "%timeit count_divisors2(100)"
   ]
  },
  {
   "cell_type": "code",
   "execution_count": 6,
   "metadata": {},
   "outputs": [
    {
     "name": "stdout",
     "output_type": "stream",
     "text": [
      "for n = 100000\n",
      "21.7 ms ± 2 ms per loop (mean ± std. dev. of 7 runs, 10 loops each)\n",
      "60.2 µs ± 2.81 µs per loop (mean ± std. dev. of 7 runs, 10000 loops each)\n"
     ]
    }
   ],
   "source": [
    "print(\"for n = 100000\")\n",
    "%timeit count_divisors1(100000)\n",
    "%timeit count_divisors2(100000)"
   ]
  },
  {
   "cell_type": "markdown",
   "metadata": {},
   "source": [
    "Here we can notice clearly here that the the second solution is more faster than the first one "
   ]
  },
  {
   "cell_type": "markdown",
   "metadata": {},
   "source": [
    "## 1.4 Calculate the number of operations executed by each of the programs for different values of n and generalize for any n"
   ]
  },
  {
   "cell_type": "markdown",
   "metadata": {},
   "source": [
    "For the first solution : it executes n operations.\n",
    "\n",
    "For the second solution : it executes square root of n.\n"
   ]
  },
  {
   "cell_type": "markdown",
   "metadata": {},
   "source": [
    "# 2 Big-O notation"
   ]
  },
  {
   "cell_type": "markdown",
   "metadata": {},
   "source": [
    "## 2.1 Prove That $T(n)=O(n^3)$ with $T(n)=3n^3+2n^2+\\frac{1}{2}n+7$"
   ]
  },
  {
   "cell_type": "markdown",
   "metadata": {},
   "source": [
    "\n",
    "By definition $T(n)=O(f(n)) \\mbox{ if } f \\mbox{ } \\exists c,n_0 \\mbox{ such as } T(n) \\leq c.f(n) \\mbox{ }\\forall n \\geq n_0$\n",
    "\n",
    "\n",
    "We have that :\n",
    "\n",
    "\n",
    "\\begin{align*}\n",
    "T(n)=3n^3+2n^2+\\frac{1}{2}n+7 & \\leq 3n^3+2n^3+\\frac{1}{2}n^3+7n^3 \\\\\n",
    "& = \\frac{25}{2} n^3\\\\\n",
    "\\end{align*}\n",
    "\n",
    "\n",
    "$\\mbox{ with } n_0= 1 \\mbox{ and } c = \\frac{25}{2} n^3 \\\\\n",
    "\\mbox{ Then } T(n)=O(n^3)$\n",
    "\n"
   ]
  },
  {
   "cell_type": "markdown",
   "metadata": {},
   "source": [
    "## 2.2 Prove: $ \\forall k \\geq 1, n^k \\mbox{ is not  } O(n^{k-1})$"
   ]
  },
  {
   "cell_type": "markdown",
   "metadata": {},
   "source": [
    "Onother property of big-O is that $f(n)$ is $O(g(n))$ for nonnegative functions if and only if:\n",
    "$\\lim_{x \\rightarrow +\\infty} sup \\frac{f(x)}{g(x)} < \\infty$\n",
    "\n",
    "let $f(x) = n^k$ and $g(x)= n^{k-1}$\n",
    "we have that $\\lim_{x \\rightarrow +\\infty} sup \\frac{f(x)}{g(x)} = \\lim_{x \\rightarrow +\\infty} sup \\frac{n^k}{n^{n-1}} = n \\rightarrow +\\infty $\n",
    "\n",
    "We conclude that $n^k \\mbox{ is not  } O(n^{k-1})$"
   ]
  },
  {
   "cell_type": "markdown",
   "metadata": {},
   "source": [
    "# 3 Merge sort"
   ]
  },
  {
   "cell_type": "markdown",
   "metadata": {},
   "source": [
    "##  3.1 Given two sorted arrays, write a function (with a language of your choice) that merge the two arrays into a single sorted array."
   ]
  },
  {
   "cell_type": "code",
   "execution_count": 16,
   "metadata": {},
   "outputs": [],
   "source": [
    "import numpy as np\n",
    "def merge(A,B):\n",
    "    C = np.zeros(len(A)+len(B))\n",
    "    i=0\n",
    "    j=0\n",
    "    k=0\n",
    "    while i < len(A) and j < len(B):\n",
    "        if A[i] < B[j]:\n",
    "            C[k]= A[i]\n",
    "            i +=1\n",
    "            k +=1\n",
    "        else:\n",
    "            C[k]= B[j]\n",
    "            j +=1\n",
    "            k +=1\n",
    "    while i < len(A):\n",
    "        C[k] = A[i]\n",
    "        i += 1\n",
    "        k += 1\n",
    "    while j < len(B):\n",
    "        C[k] = B[j]\n",
    "        j += 1\n",
    "        k += 1\n",
    "    \n",
    "    return C"
   ]
  },
  {
   "cell_type": "code",
   "execution_count": 21,
   "metadata": {},
   "outputs": [
    {
     "data": {
      "text/plain": [
       "array([1., 2., 3., 5., 6., 8., 9.])"
      ]
     },
     "execution_count": 21,
     "metadata": {},
     "output_type": "execute_result"
    }
   ],
   "source": [
    "merge(np.array([1,3,6]),np.array([2,5,8,9]))"
   ]
  },
  {
   "cell_type": "markdown",
   "metadata": {},
   "source": [
    "## 3.2 Analyse the complexity of your function using Big-O notation."
   ]
  },
  {
   "cell_type": "markdown",
   "metadata": {},
   "source": [
    "The main while loop runs for at most (len(A) + len(B)) iterations. since we compare one element from each array during each iteration. Therefore, the time complexity of the main loop is O(len(A) + len(B)).\n",
    "\n",
    "The two while loops that handle remaining elements in A and B take at most len(A) + len(B) iterations combined. Therefore, the time complexity of these two loops is also O(len(A) + len(B)).\n",
    "\n",
    "Then we conclude that the function is O(len(A) + len(B))."
   ]
  },
  {
   "cell_type": "markdown",
   "metadata": {},
   "source": [
    "# 4 The master method"
   ]
  },
  {
   "cell_type": "markdown",
   "metadata": {},
   "source": [
    "According to the Master Theorem to solve this recurrence relation and determine the time complexity of merge sort.\n",
    "In the case of merge sort, we have:\n",
    "\n",
    "$a = 2$, since merge sort divides the array into two halves\n",
    "\n",
    "$b = 2$, since each subarray has half the size of the original problem\n",
    "\n",
    "we have $f(n) = O(n^d)$, which corresponds to $d = 1$, because the time it takes to merge two sorted arrays is proportional to n. $a = b^d$, which corresponds to case 1 of the Master Theorem.\n",
    "\n",
    "\n",
    "Therefore, the time complexity is $O(n log n)$"
   ]
  },
  {
   "cell_type": "markdown",
   "metadata": {},
   "source": [
    "According to the Master Theorem to solve this recurrence relation and determine the time complexity of binary search.\n",
    "In the case of merge sort, we have:\n",
    "\n",
    "$a = 1$, since binary search divides the problem into only two subproblems.\n",
    "\n",
    "$b = 2$, since the problem is divided by two at each recursive step.\n",
    "\n",
    "we have $f(n) = O(1)$, which corresponds to $d = 0$, because checking the midpoint and updating the search space takes constant time, regardless of the size of the search space. $a = b^d$, which corresponds to case 1 of the Master Theorem.\n",
    "\n",
    "Therefore, the time complexity of binary search is $T(n) = O(log n)$"
   ]
  },
  {
   "cell_type": "markdown",
   "metadata": {},
   "source": [
    "# 5 Bonus"
   ]
  },
  {
   "cell_type": "markdown",
   "metadata": {},
   "source": [
    "## 5.1 Write a function called merge sort (using a language of your choice) that takes two arrays as parameters and sort those two arrays using the merge sort algorithm"
   ]
  },
  {
   "cell_type": "code",
   "execution_count": 50,
   "metadata": {},
   "outputs": [],
   "source": [
    "\n",
    "def mergeSort(arr1, arr2): \n",
    "    arr = arr1 + arr2        \n",
    "    if len(arr) > 1:\n",
    "\n",
    "        # Create sub_array2 ← A[start..mid] and sub_array2 ← A[mid+1..end]\n",
    "        mid = len(arr)//2\n",
    "        sub_array1 = arr[:mid]\n",
    "        sub_array2 = arr[mid:]\n",
    "\n",
    "        # Sort the two halves\n",
    "        mergeSort(sub_array1, [])\n",
    "        mergeSort(sub_array2, [])\n",
    "\n",
    "        # Initial values for pointers that we use to keep track of where we are in each array\n",
    "        i = j = k = 0\n",
    "\n",
    "    # Until we reach the end of either start or end, pick larger among\n",
    "    # elements start and end and place them in the correct position in the sorted array\n",
    "        while i < len(sub_array1) and j < len(sub_array2):\n",
    "            if sub_array1[i] < sub_array2[j]:\n",
    "                arr[k] = sub_array1[i]\n",
    "                i += 1\n",
    "            else:\n",
    "                arr[k] = sub_array2[j]\n",
    "                j += 1\n",
    "            k += 1\n",
    "\n",
    "    # When all elements are traversed in either arr1 or arr2,\n",
    "    # pick up the remaining elements and put in sorted array\n",
    "        while i < len(sub_array1):\n",
    "            arr[k] = sub_array1[i]\n",
    "            i += 1\n",
    "            k += 1\n",
    "\n",
    "        while j < len(sub_array2):\n",
    "            arr[k] = sub_array2[j]\n",
    "            j += 1\n",
    "            k += 1\n",
    "    \n",
    " \n",
    "    \n"
   ]
  },
  {
   "cell_type": "code",
   "execution_count": 55,
   "metadata": {},
   "outputs": [],
   "source": [
    "def mergeSort(arr1, arr2):\n",
    "    # Merge two input arrays into a single array\n",
    "    arr = arr1 + arr2\n",
    "    \n",
    "    if len(arr) > 1:\n",
    "        # Divide the array into two halves\n",
    "        mid = len(arr) // 2\n",
    "        sub_array1 = arr[:mid]\n",
    "        sub_array2 = arr[mid:]\n",
    "\n",
    "        # Recursively sort each half\n",
    "        mergeSort(sub_array1, [])\n",
    "        mergeSort(sub_array2, [])\n",
    "\n",
    "        # Merge the two sorted halves\n",
    "        i = j = k = 0\n",
    "        while i < len(sub_array1) and j < len(sub_array2):\n",
    "            if sub_array1[i] < sub_array2[j]:\n",
    "                arr[k] = sub_array1[i]\n",
    "                i += 1\n",
    "            else:\n",
    "                arr[k] = sub_array2[j]\n",
    "                j += 1\n",
    "            k += 1\n",
    "\n",
    "        while i < len(sub_array1):\n",
    "            arr[k] = sub_array1[i]\n",
    "            i += 1\n",
    "            k += 1\n",
    "\n",
    "        while j < len(sub_array2):\n",
    "            arr[k] = sub_array2[j]\n",
    "            j += 1\n",
    "            k += 1\n",
    "\n",
    "    # Return the sorted array\n",
    "    return arr"
   ]
  },
  {
   "cell_type": "code",
   "execution_count": 57,
   "metadata": {},
   "outputs": [
    {
     "name": "stdout",
     "output_type": "stream",
     "text": [
      "[3, 1, 4, 1, 5, 3, 5, 5, 8, 9, 7, 9, 3, 9, 2, 6]\n"
     ]
    }
   ],
   "source": []
  },
  {
   "cell_type": "markdown",
   "metadata": {},
   "source": [
    "## 5.2 Analyse the complexity of your algorithm without using the master theorem\n"
   ]
  },
  {
   "cell_type": "markdown",
   "metadata": {},
   "source": [
    "The function starts by initializing an empty list merged_arr. This operation takes O(1) time.\n",
    "\n",
    "The function initializes two variables i and j to zero. This operation takes O(1) time.\n",
    "\n",
    "The function enters a while loop that runs as long as i is less than the length of the first input array A and j is less than the length of the second input array B.\n",
    "\n",
    "Within the while loop, the function compares the values of A[i] and B[j]. If A[i] is less than B[j], then A[i] is appended to merged_arr and i is incremented by 1. Otherwise, B[j] is appended to merged_arr and j is incremented by 1. This operation takes O(1) time.\n",
    "\n",
    "Once the while loop is exited, the function appends any remaining elements of A and B to merged_arr. This operation takes O(n) time, where n is the number of remaining elements.\n",
    "\n",
    "Finally, the function returns the merged array merged_arr. This operation takes O(1) time.\n",
    "\n",
    "Overall, steps 1, 2, and 6 take constant time, while steps 4 and 5 take time proportional to the total number of elements in the input arrays. Therefore, the time complexity of the merge_sort function is O(m+n), where m and n are the lengths of the input arrays A and B, respectively.\n",
    "\n",
    "\n",
    "\n",
    "1. We start by initializing an empty list, i and j ,this operation takes a constant complexity O(1)\n",
    "2. The function enters a while loop where we will compare the values of A[i] and B[i] .\n",
    "\n",
    "\n",
    "\n",
    "\n",
    "Average Case Time complexity : O(nlog(n))"
   ]
  },
  {
   "cell_type": "markdown",
   "metadata": {},
   "source": [
    "## 5.3 Prove the 3 cases of the master theorem"
   ]
  },
  {
   "cell_type": "code",
   "execution_count": null,
   "metadata": {},
   "outputs": [],
   "source": []
  },
  {
   "cell_type": "markdown",
   "metadata": {},
   "source": [
    "## 5.4 Choose an algorithm of your choice and analyse it’s complexity using the Big-O notation"
   ]
  },
  {
   "cell_type": "code",
   "execution_count": null,
   "metadata": {},
   "outputs": [],
   "source": []
  },
  {
   "cell_type": "markdown",
   "metadata": {},
   "source": [
    "# 6 Matrix multiplication"
   ]
  },
  {
   "cell_type": "markdown",
   "metadata": {},
   "source": [
    "## Write a function using python3 that mul.ply two matrices A,B (without the use of numpy or any external library)."
   ]
  },
  {
   "cell_type": "code",
   "execution_count": 139,
   "metadata": {},
   "outputs": [],
   "source": [
    "def multiplication_matrix(A,B):\n",
    "    m = len(A) # m est le nombre de ligne \n",
    "    n = len(B[0]) # le nombre de colonne\n",
    "    R = [[0] * n for _ in range(m)]\n",
    "    if m!=n:\n",
    "        print('Can t multiply A*B')\n",
    "    else :\n",
    "        for i in range(m):\n",
    "            for j in range(n):\n",
    "                for k in range(len(B)):\n",
    "                    R[i][j] += A[i][k] * B[k][j]\n",
    "    return R"
   ]
  },
  {
   "cell_type": "code",
   "execution_count": 140,
   "metadata": {},
   "outputs": [
    {
     "data": {
      "text/plain": [
       "[[12, 34, 32], [22, 81, 70], [26, 82, 74]]"
      ]
     },
     "execution_count": 140,
     "metadata": {},
     "output_type": "execute_result"
    }
   ],
   "source": [
    "A=[[1,2,3],[3,3,7],[3,4,7]]\n",
    "B=[[1,5,3],[4,1,4],[1,9,7]]\n",
    "multiplication_matrix(A,B)"
   ]
  },
  {
   "cell_type": "markdown",
   "metadata": {},
   "source": [
    "For the time complexity we have that The outer loop iterates m times, the middle loop iterates n times, and the inner loop iterates p times. Within the inner loop, there are constant time operations (multiplying and adding) \n",
    "So if we assume that n,m,p are large the time complexity would be $O(n^3)$"
   ]
  },
  {
   "cell_type": "code",
   "execution_count": 147,
   "metadata": {},
   "outputs": [],
   "source": [
    "import numpy as np\n",
    "\n",
    "def multiplication_matrix_optimized(A, B, block_size):\n",
    "    m, n = A.shape\n",
    "    q, p = B.shape\n",
    "    if n != q:\n",
    "        print(\"Matrices cannot be multiplied\")\n",
    "        return None\n",
    "    C = np.zeros((m, p))\n",
    "    for i in range(0, m, block_size):\n",
    "        for j in range(0, p, block_size):\n",
    "            for k in range(0, n, block_size):\n",
    "                C[i:i+block_size, j:j+block_size] += np.dot(A[i:i+block_size, k:k+block_size], B[k:k+block_size, j:j+block_size])\n",
    "    \n",
    "    return C"
   ]
  },
  {
   "cell_type": "code",
   "execution_count": 148,
   "metadata": {},
   "outputs": [
    {
     "data": {
      "text/plain": [
       "array([[12., 34., 32.],\n",
       "       [22., 81., 70.],\n",
       "       [26., 82., 74.]])"
      ]
     },
     "execution_count": 148,
     "metadata": {},
     "output_type": "execute_result"
    }
   ],
   "source": [
    "A=np.array([[1,2,3],[3,3,7],[3,4,7]])\n",
    "B=np.array([[1,5,3],[4,1,4],[1,9,7]])\n",
    "multiplication_matrix_optimized(A,B,4)"
   ]
  },
  {
   "cell_type": "markdown",
   "metadata": {},
   "source": [
    "For each submatrix multiplication, we need to perform a dot product of two block_size x block_size matrices, which takes $O(block-size^3)$ time. Therefore, the total time complexity of the matrix multiplication operation is $O((n/block_size)^3 * block-size^3)$, which simplifies to $O(n^3/block-size)$ which more fasetr that the naif method."
   ]
  },
  {
   "cell_type": "code",
   "execution_count": null,
   "metadata": {},
   "outputs": [],
   "source": []
  }
 ],
 "metadata": {
  "kernelspec": {
   "display_name": "Python 3",
   "language": "python",
   "name": "python3"
  },
  "language_info": {
   "codemirror_mode": {
    "name": "ipython",
    "version": 3
   },
   "file_extension": ".py",
   "mimetype": "text/x-python",
   "name": "python",
   "nbconvert_exporter": "python",
   "pygments_lexer": "ipython3",
   "version": "3.7.9"
  }
 },
 "nbformat": 4,
 "nbformat_minor": 4
}
