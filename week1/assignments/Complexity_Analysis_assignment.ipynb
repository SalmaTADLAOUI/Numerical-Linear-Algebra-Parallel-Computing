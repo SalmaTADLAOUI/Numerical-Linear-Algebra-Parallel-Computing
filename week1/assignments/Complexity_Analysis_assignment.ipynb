{
 "cells": [
  {
   "cell_type": "markdown",
   "metadata": {},
   "source": [
    "# 1.Introduction"
   ]
  },
  {
   "cell_type": "markdown",
   "metadata": {},
   "source": [
    "## 1.1 Describe solution 1"
   ]
  },
  {
   "cell_type": "code",
   "execution_count": 58,
   "metadata": {},
   "outputs": [],
   "source": [
    "def count_divisors1(n):\n",
    "    count= 0\n",
    "    d=1\n",
    "    while d<=n:\n",
    "        if n%d == 0:\n",
    "            count +=1\n",
    "        d +=1\n",
    "    return count"
   ]
  },
  {
   "cell_type": "markdown",
   "metadata": {},
   "source": [
    "This solution describes a function to count the divisors of a number n. First, we initialize an integer count to zero, which will be used to count how many divisors n has. Then, we use an integer d to iterate from 1 to n in a while loop. Inside the loop, we check if d divides n without a remainder. If it does, we increment the variable count. We continue looping until d is greater than n. Finally, we return the number of divisors n has, which is stored in count."
   ]
  },
  {
   "cell_type": "markdown",
   "metadata": {},
   "source": [
    "## 1.2 Describe solution 2"
   ]
  },
  {
   "cell_type": "code",
   "execution_count": 59,
   "metadata": {},
   "outputs": [],
   "source": [
    "def count_divisors2(n):\n",
    "    count= 0\n",
    "    d=1\n",
    "    while d*d<=n:\n",
    "        if n%d == 0:\n",
    "            count +=1 if n / d == d else 2\n",
    "        d +=1\n",
    "    return count"
   ]
  },
  {
   "cell_type": "markdown",
   "metadata": {},
   "source": [
    "This solution describes another function to count the divisors of a number n. Like the previous solution, we initialize an integer count to zero, which will be used to count how many divisors n has. Then, we use an integer d to iterate from 1 to n in a while loop. However, in this solution, we only iterate through possible divisors up to the square root of n.\n",
    "Inside the loop, we check if d divides n without a remainder. If it does, we check if d is a perfect square. If it is, we increment the variable count by 1 because d is a divisor of n and the square root of n is also a divisor. Otherwise, we add 2 to the variable count because both d and n/d are divisors of n.\n",
    "We continue looping until d is greater than the square root of n. Finally, we return the number of divisors n has, which is stored in count."
   ]
  },
  {
   "cell_type": "markdown",
   "metadata": {},
   "source": [
    "## 1.3 Run the two programs for different values of n and measure which algorithm is faster"
   ]
  },
  {
   "cell_type": "code",
   "execution_count": 60,
   "metadata": {},
   "outputs": [],
   "source": [
    "%load_ext line_profiler"
   ]
  },
  {
   "cell_type": "code",
   "execution_count": 61,
   "metadata": {},
   "outputs": [
    {
     "name": "stdout",
     "output_type": "stream",
     "text": [
      "for n = 10\n",
      "1.43 µs ± 116 ns per loop (mean ± std. dev. of 7 runs, 1000000 loops each)\n",
      "1.17 µs ± 124 ns per loop (mean ± std. dev. of 7 runs, 1000000 loops each)\n"
     ]
    }
   ],
   "source": [
    "print(\"for n = 10\")\n",
    "%timeit count_divisors1(10)\n",
    "%timeit count_divisors2(10)"
   ]
  },
  {
   "cell_type": "code",
   "execution_count": 62,
   "metadata": {},
   "outputs": [
    {
     "name": "stdout",
     "output_type": "stream",
     "text": [
      "for n = 100\n",
      "16.9 µs ± 2.19 µs per loop (mean ± std. dev. of 7 runs, 100000 loops each)\n",
      "2.67 µs ± 393 ns per loop (mean ± std. dev. of 7 runs, 100000 loops each)\n"
     ]
    }
   ],
   "source": [
    "print(\"for n = 100\")\n",
    "%timeit count_divisors1(100)\n",
    "%timeit count_divisors2(100)"
   ]
  },
  {
   "cell_type": "code",
   "execution_count": 63,
   "metadata": {},
   "outputs": [
    {
     "name": "stdout",
     "output_type": "stream",
     "text": [
      "for n = 100000\n",
      "13.9 ms ± 447 µs per loop (mean ± std. dev. of 7 runs, 100 loops each)\n",
      "55 µs ± 2.1 µs per loop (mean ± std. dev. of 7 runs, 10000 loops each)\n"
     ]
    }
   ],
   "source": [
    "print(\"for n = 100000\")\n",
    "%timeit count_divisors1(100000)\n",
    "%timeit count_divisors2(100000)"
   ]
  },
  {
   "cell_type": "markdown",
   "metadata": {},
   "source": [
    "Here we can notice clearly here that the the second solution is more faster than the first one "
   ]
  },
  {
   "cell_type": "markdown",
   "metadata": {},
   "source": [
    "## 1.4 Calculate the number of operations executed by each of the programs for different values of n and generalize for any n"
   ]
  },
  {
   "cell_type": "markdown",
   "metadata": {},
   "source": [
    "For the first solution : it executes n operations.\n",
    "\n",
    "For the second solution : it executes square root of n.\n"
   ]
  },
  {
   "cell_type": "markdown",
   "metadata": {},
   "source": [
    "# 2 Big-O notation"
   ]
  },
  {
   "cell_type": "markdown",
   "metadata": {},
   "source": [
    "## 2.1 Prove That $T(n)=O(n^3)$ with $T(n)=3n^3+2n^2+\\frac{1}{2}n+7$"
   ]
  },
  {
   "cell_type": "markdown",
   "metadata": {},
   "source": [
    "\n",
    "By definition $T(n)=O(f(n)) \\mbox{ if } f \\mbox{ } \\exists c,n_0 \\mbox{ such as } T(n) \\leq c.f(n) \\mbox{ }\\forall n \\geq n_0$\n",
    "\n",
    "\n",
    "We have that :\n",
    "\n",
    "\n",
    "\\begin{align*}\n",
    "T(n)=3n^3+2n^2+\\frac{1}{2}n+7 & \\leq 3n^3+2n^3+\\frac{1}{2}n^3+7n^3 \\\\\n",
    "& = \\frac{25}{2} n^3\\\\\n",
    "\\end{align*}\n",
    "\n",
    "\n",
    "$\\mbox{ with } n_0= 1 \\mbox{ and } c = \\frac{25}{2} n^3 \\\\\n",
    "\\mbox{ Then } T(n)=O(n^3)$\n",
    "\n"
   ]
  },
  {
   "cell_type": "markdown",
   "metadata": {},
   "source": [
    "## 2.2 Prove: $ \\forall k \\geq 1, n^k \\mbox{ is not  } O(n^{k-1})$"
   ]
  },
  {
   "cell_type": "markdown",
   "metadata": {},
   "source": [
    "Onother property of big-O is that $f(n)$ is $O(g(n))$ for nonnegative functions if and only if:\n",
    "$\\lim_{x \\rightarrow +\\infty} sup \\frac{f(x)}{g(x)} < \\infty$\n",
    "\n",
    "let $f(x) = n^k$ and $g(x)= n^{k-1}$\n",
    "we have that $\\lim_{x \\rightarrow +\\infty} sup \\frac{f(x)}{g(x)} = \\lim_{x \\rightarrow +\\infty} sup \\frac{n^k}{n^{n-1}} = n \\rightarrow +\\infty $\n",
    "\n",
    "We conclude that $n^k \\mbox{ is not  } O(n^{k-1})$"
   ]
  },
  {
   "cell_type": "markdown",
   "metadata": {},
   "source": [
    "# 3 Merge sort"
   ]
  },
  {
   "cell_type": "markdown",
   "metadata": {},
   "source": [
    "##  3.1 Given two sorted arrays, write a function (with a language of your choice) that merge the two arrays into a single sorted array."
   ]
  },
  {
   "cell_type": "code",
   "execution_count": 64,
   "metadata": {},
   "outputs": [],
   "source": [
    "import numpy as np\n",
    "def merge(A,B):\n",
    "    C = np.zeros(len(A)+len(B))\n",
    "    i=0\n",
    "    j=0\n",
    "    k=0\n",
    "    while i < len(A) and j < len(B):\n",
    "        if A[i] < B[j]:\n",
    "            C[k]= A[i]\n",
    "            i +=1\n",
    "            k +=1\n",
    "        else:\n",
    "            C[k]= B[j]\n",
    "            j +=1\n",
    "            k +=1\n",
    "    while i < len(A):\n",
    "        C[k] = A[i]\n",
    "        i += 1\n",
    "        k += 1\n",
    "    while j < len(B):\n",
    "        C[k] = B[j]\n",
    "        j += 1\n",
    "        k += 1\n",
    "    \n",
    "    return C"
   ]
  },
  {
   "cell_type": "code",
   "execution_count": 65,
   "metadata": {},
   "outputs": [
    {
     "data": {
      "text/plain": [
       "array([1., 2., 3., 5., 6., 8., 9.])"
      ]
     },
     "execution_count": 65,
     "metadata": {},
     "output_type": "execute_result"
    }
   ],
   "source": [
    "merge(np.array([1,3,6]),np.array([2,5,8,9]))"
   ]
  },
  {
   "cell_type": "markdown",
   "metadata": {},
   "source": [
    "## 3.2 Analyse the complexity of your function using Big-O notation."
   ]
  },
  {
   "cell_type": "markdown",
   "metadata": {},
   "source": [
    "The main while loop runs for at most (len(A) + len(B)) iterations. since we compare one element from each array during each iteration. Therefore, the time complexity of the main loop is O(len(A) + len(B)).\n",
    "\n",
    "The two while loops that handle remaining elements in A and B take at most len(A) + len(B) iterations combined. Therefore, the time complexity of these two loops is also O(len(A) + len(B)).\n",
    "\n",
    "Then we conclude that the function is O(len(A) + len(B))."
   ]
  },
  {
   "cell_type": "markdown",
   "metadata": {},
   "source": [
    "# 4 The master method"
   ]
  },
  {
   "cell_type": "markdown",
   "metadata": {},
   "source": [
    "According to the Master Theorem to solve this recurrence relation and determine the time complexity of merge sort.\n",
    "In the case of merge sort, we have:\n",
    "\n",
    "$a = 2$, since merge sort divides the array into two halves\n",
    "\n",
    "$b = 2$, since each subarray has half the size of the original problem\n",
    "\n",
    "we have $f(n) = O(n^d)$, which corresponds to $d = 1$, because the time it takes to merge two sorted arrays is proportional to n. $a = b^d$, which corresponds to case 1 of the Master Theorem.\n",
    "\n",
    "\n",
    "Therefore, the time complexity is $O(n log n)$"
   ]
  },
  {
   "cell_type": "markdown",
   "metadata": {},
   "source": [
    "According to the Master Theorem to solve this recurrence relation and determine the time complexity of binary search.\n",
    "In the case of merge sort, we have:\n",
    "\n",
    "$a = 1$, since binary search divides the problem into only two subproblems.\n",
    "\n",
    "$b = 2$, since the problem is divided by two at each recursive step.\n",
    "\n",
    "we have $f(n) = O(1)$, which corresponds to $d = 0$, because checking the midpoint and updating the search space takes constant time, regardless of the size of the search space. $a = b^d$, which corresponds to case 1 of the Master Theorem.\n",
    "\n",
    "Therefore, the time complexity of binary search is $T(n) = O(log n)$"
   ]
  },
  {
   "cell_type": "markdown",
   "metadata": {},
   "source": [
    "# 5 Bonus"
   ]
  },
  {
   "cell_type": "markdown",
   "metadata": {},
   "source": [
    "## 5.1 Write a function called merge sort (using a language of your choice) that takes two arrays as parameters and sort those two arrays using the merge sort algorithm"
   ]
  },
  {
   "cell_type": "code",
   "execution_count": 107,
   "metadata": {},
   "outputs": [],
   "source": [
    "def mergeSort(list1, list2):\n",
    "    # combine arr1 and arr2 into a single array\n",
    "    arr = list1 + list2\n",
    "    n = len(arr)\n",
    "\n",
    "    # if the array has 1 or 0 elements, it's already sorted\n",
    "    if n <= 1:\n",
    "        return arr\n",
    "\n",
    "    # divide the array in half and recursively sort each half\n",
    "    mid = n // 2\n",
    "    left = mergeSort(arr[:mid], [])  # recursively sort left half\n",
    "    right = mergeSort(arr[mid:], [])  # recursively sort right half\n",
    "\n",
    "    \n",
    "    merge_arr = []  # merged array\n",
    "    i = j = 0  \n",
    "    # merge the two sorted halves into a single sorted array\n",
    "    while i < len(left) and j < len(right):\n",
    "        if left[i] <= right[j]:\n",
    "            merge_arr.append(left[i])\n",
    "            i += 1\n",
    "        else:\n",
    "            merge_arr.append(right[j])\n",
    "            j += 1\n",
    "\n",
    "    # append any remaining elements from the left or right sub-array\n",
    "    merge_arr += left[i:]\n",
    "    merge_arr += right[j:]\n",
    "\n",
    "    return merge_arr"
   ]
  },
  {
   "cell_type": "code",
   "execution_count": 108,
   "metadata": {},
   "outputs": [
    {
     "data": {
      "text/plain": [
       "[0, 1, 2, 3, 4, 5, 10]"
      ]
     },
     "execution_count": 108,
     "metadata": {},
     "output_type": "execute_result"
    }
   ],
   "source": [
    "mergesort([1, 5, 4,10], [3, 0, 2])\n"
   ]
  },
  {
   "cell_type": "markdown",
   "metadata": {},
   "source": [
    "## 5.2 Analyse the complexity of your algorithm without using the master theorem\n"
   ]
  },
  {
   "cell_type": "markdown",
   "metadata": {},
   "source": [
    "In the divide and conquer method of merge sort, the input array is divided repeatedly in half until we get arrays of size 1, and these sub-arrays are then combined in a sorted way. It takes this division process $O(log(n))$ time to divide the input array in half with each recursive call, and it takes the merging process $O(n)$ time to copy and compare each element. As a result, the merge sort's overall time complexity is $O(nlog(n))$."
   ]
  },
  {
   "cell_type": "markdown",
   "metadata": {},
   "source": [
    "## 5.3 Prove the 3 cases of the master theorem"
   ]
  },
  {
   "cell_type": "markdown",
   "metadata": {},
   "source": [
    "Using the Master Theorem \n",
    "We know that $T(n) = a T(n/b) + O(n^k)$ where $a \\geq 1$ and $b > 1$\n",
    "\n",
    "There are three cases of the analysis using master theorem:\n",
    "\n",
    "If $f(n) = O(n^k)$ where $k < log_b(a) Then T(n) = O(n^log_b(a))$\n",
    "\n",
    "If $f(n) = O(n^k)$ where $k = log_b(a) Then T(n) = O(n^log(n))$\n",
    "\n",
    "If $f(n) = O(n^k)$ where $k > log_b(a) Then T(n) = O(n^k))$\n",
    "\n",
    "Let's now find the case that fit the merge sort algorithm\n",
    "\n",
    "$T(n) = 2 T(n/2) + cn$\n",
    "\n",
    "Here $a = 2$ merge sort divides the array into two halves, $b=2$ since each subarray has half the size of the original problem\n",
    "\n",
    "$O(n^k) = O(n^1) => d=1$\n",
    "\n",
    "It means that we are in the second case of the master theorem.\n",
    "\n",
    "Therefore $T(n)= O(nlog(n))$"
   ]
  },
  {
   "cell_type": "markdown",
   "metadata": {},
   "source": [
    "## 5.4 Choose an algorithm of your choice and analyse it’s complexity using the Big-O notation"
   ]
  },
  {
   "cell_type": "code",
   "execution_count": 91,
   "metadata": {},
   "outputs": [
    {
     "name": "stdout",
     "output_type": "stream",
     "text": [
      "1\n"
     ]
    }
   ],
   "source": [
    "# This algorithm search an number on a list and return it's index\n",
    "def search(num, arr):\n",
    "    for i in arr:\n",
    "        if i == num:\n",
    "            return arr.index(i)\n",
    "        else:\n",
    "            pass\n",
    "arr = [2, 4, 6, 8, 10]\n",
    "\n",
    "print(search(4, arr))\n"
   ]
  },
  {
   "cell_type": "markdown",
   "metadata": {},
   "source": [
    "In the best-case scenario of searching for the number 2 in a list, the item is found in the first comparison, resulting in the best-case complexity of O(1). However, if the number 10 is searched, it will be found at the last searched index, which means the algorithm needs to search through all items in the list. In this case, the worst-case complexity becomes O(n)."
   ]
  },
  {
   "cell_type": "markdown",
   "metadata": {},
   "source": [
    "\"Binary Search algorithm\"\n",
    "\n",
    "1. Let max = n-1 and min = 0.\n",
    "\n",
    "2. The midway is calculated as mid = (min + max) / 2.\n",
    "3. Return the midpoint if the element at the midpoint is equal to the goal.\n",
    "4. The target can only be in the left half of the array if the element at the midway is bigger than the target. Step 2 is reached by setting max = mid - 1.\n",
    "5. The target can only be in the right half of the array if the element at the midway is less than the target. Go to step 2 after setting min = mid + 1. Return -1 if the target cannot be located."
   ]
  },
  {
   "cell_type": "code",
   "execution_count": 125,
   "metadata": {},
   "outputs": [],
   "source": [
    "def binary_search(liste, num):\n",
    "    \"\"\"\n",
    "    Performs a binary search on a sorted array to find the target element.\n",
    "\n",
    "    :param arr: A sorted array.\n",
    "    :param target: The element to search for.\n",
    "    :return: The index of the target element if found, otherwise -1.\n",
    "    \"\"\"\n",
    "    min = 0\n",
    "    max = len(liste) - 1\n",
    "\n",
    "    while min <= max:\n",
    "        mid = (min + max) // 2\n",
    "\n",
    "        if liste[mid] == num:\n",
    "            return mid\n",
    "        elif liste[mid] > num:\n",
    "            max = mid - 1\n",
    "        else:\n",
    "            min = mid + 1\n",
    "\n",
    "    return -1"
   ]
  },
  {
   "cell_type": "code",
   "execution_count": 126,
   "metadata": {},
   "outputs": [
    {
     "name": "stdout",
     "output_type": "stream",
     "text": [
      "3\n"
     ]
    }
   ],
   "source": [
    "arr = [2, 4, 6, 8, 10]\n",
    "\n",
    "print(binary_search(arr, 8))\n"
   ]
  },
  {
   "cell_type": "markdown",
   "metadata": {},
   "source": [
    "Binary search algorithm's temporal complexity is O (log n). This is due to the fact that the method divides the size of the remaining search space in half at each step, which causes the number of steps required to complete the search to expand exponentially. Binary search is a very effective approach for searching in large datasets since the time complexity increases much more slowly than linearly as the input size (n) increases."
   ]
  },
  {
   "cell_type": "markdown",
   "metadata": {},
   "source": [
    "# 6 Matrix multiplication"
   ]
  },
  {
   "cell_type": "markdown",
   "metadata": {},
   "source": [
    "## 6.1 Write a function using python3 that multiply two matrices A,B (without the use of numpy or any external library)."
   ]
  },
  {
   "cell_type": "code",
   "execution_count": 68,
   "metadata": {},
   "outputs": [],
   "source": [
    "def multiplication_matrix(A,B):\n",
    "    m = len(A) # m est le nombre de ligne \n",
    "    n = len(B[0]) # le nombre de colonne\n",
    "    R = [[0] * n for _ in range(m)]\n",
    "    if m!=n:\n",
    "        print('Can t multiply A*B')\n",
    "    else :\n",
    "        for i in range(m):\n",
    "            for j in range(n):\n",
    "                for k in range(len(B)):\n",
    "                    R[i][j] += A[i][k] * B[k][j]\n",
    "    return R"
   ]
  },
  {
   "cell_type": "code",
   "execution_count": 69,
   "metadata": {},
   "outputs": [
    {
     "data": {
      "text/plain": [
       "[[12, 34, 32], [22, 81, 70], [26, 82, 74]]"
      ]
     },
     "execution_count": 69,
     "metadata": {},
     "output_type": "execute_result"
    }
   ],
   "source": [
    "A=[[1,2,3],[3,3,7],[3,4,7]]\n",
    "B=[[1,5,3],[4,1,4],[1,9,7]]\n",
    "multiplication_matrix(A,B)"
   ]
  },
  {
   "cell_type": "markdown",
   "metadata": {},
   "source": [
    "## 6.2 What’s the complexity of your algorithm (using big-O nota.on)?"
   ]
  },
  {
   "cell_type": "markdown",
   "metadata": {},
   "source": [
    "For the time complexity we have that The outer loop iterates m times, the middle loop iterates n times, and the inner loop iterates p times. Within the inner loop, there are constant time operations (multiplying and adding) \n",
    "So if we assume that n,m,p are large the time complexity would be $O(n^3)$"
   ]
  },
  {
   "cell_type": "markdown",
   "metadata": {},
   "source": [
    "## 6.3 Write the same function in C. (bonus)\n"
   ]
  },
  {
   "cell_type": "markdown",
   "metadata": {},
   "source": [
    "You can find the c code in the the same folder"
   ]
  },
  {
   "cell_type": "markdown",
   "metadata": {},
   "source": [
    "## 6.4 Optimize this multiplicatioon and describe each step of your optimisation."
   ]
  },
  {
   "cell_type": "code",
   "execution_count": 70,
   "metadata": {},
   "outputs": [],
   "source": [
    "import numpy as np\n",
    "\n",
    "def multiplication_matrix_optimized(A, B, block_size):\n",
    "    m, n = A.shape\n",
    "    q, p = B.shape\n",
    "    if n != q:\n",
    "        print(\"Matrices cannot be multiplied\")\n",
    "        return None\n",
    "    C = np.zeros((m, p))\n",
    "    for i in range(0, m, block_size):\n",
    "        for j in range(0, p, block_size):\n",
    "            for k in range(0, n, block_size):\n",
    "                C[i:i+block_size, j:j+block_size] += np.dot(A[i:i+block_size, k:k+block_size], B[k:k+block_size, j:j+block_size])\n",
    "    \n",
    "    return C"
   ]
  },
  {
   "cell_type": "code",
   "execution_count": 71,
   "metadata": {},
   "outputs": [
    {
     "data": {
      "text/plain": [
       "array([[12., 34., 32.],\n",
       "       [22., 81., 70.],\n",
       "       [26., 82., 74.]])"
      ]
     },
     "execution_count": 71,
     "metadata": {},
     "output_type": "execute_result"
    }
   ],
   "source": [
    "A=np.array([[1,2,3],[3,3,7],[3,4,7]])\n",
    "B=np.array([[1,5,3],[4,1,4],[1,9,7]])\n",
    "multiplication_matrix_optimized(A,B,4)"
   ]
  },
  {
   "cell_type": "markdown",
   "metadata": {},
   "source": [
    "For each submatrix multiplication, we need to perform a dot product of two block_size x block_size matrices, which takes $O(block-size^3)$ time. Therefore, the total time complexity of the matrix multiplication operation is $O((n/block_size)^3 * block-size^3)$, which simplifies to $O(n^3/block-size)$ which more fasetr that the naif method."
   ]
  },
  {
   "cell_type": "markdown",
   "metadata": {},
   "source": [
    "# Quiz"
   ]
  },
  {
   "attachments": {
    "quiz.png": {
     "image/png": "[encoded data removed]"
    }
   },
   "cell_type": "markdown",
   "metadata": {},
   "source": [
    "![quiz.png](attachment:quiz.png)"
   ]
  },
  {
   "cell_type": "code",
   "execution_count": null,
   "metadata": {},
   "outputs": [],
   "source": []
  }
 ],
 "metadata": {
  "kernelspec": {
   "display_name": "Python 3",
   "language": "python",
   "name": "python3"
  },
  "language_info": {
   "codemirror_mode": {
    "name": "ipython",
    "version": 3
   },
   "file_extension": ".py",
   "mimetype": "text/x-python",
   "name": "python",
   "nbconvert_exporter": "python",
   "pygments_lexer": "ipython3",
   "version": "3.7.9"
  }
 },
 "nbformat": 4,
 "nbformat_minor": 4
}
