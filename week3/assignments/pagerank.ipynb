{
  "cells": [
    {
      "cell_type": "markdown",
      "metadata": {
        "id": "Lv14dBIIk6vS"
      },
      "source": [
        "Use this cell for all your imports"
      ],
      "id": "Lv14dBIIk6vS"
    },
    {
      "cell_type": "code",
      "execution_count": 61,
      "metadata": {
        "id": "ia_XA6mRk6vZ"
      },
      "outputs": [],
      "source": [
        "import numpy as np\n",
        "import numpy.linalg as la\n",
        "from scipy.sparse import coo_matrix\n",
        "from sklearn.preprocessing import normalize"
      ],
      "id": "ia_XA6mRk6vZ"
    },
    {
      "cell_type": "markdown",
      "metadata": {
        "id": "3P1RsZrMk6vc"
      },
      "source": [
        "You will be working with the file data.txt. Use this cell to load its content into the appropriate data structure."
      ],
      "id": "3P1RsZrMk6vc"
    },
    {
      "cell_type": "code",
      "execution_count": 62,
      "metadata": {
        "colab": {
          "base_uri": "https://localhost:8080/",
          "height": 73
        },
        "id": "78JeSQ5flCgB",
        "outputId": "fb4b7cd0-b224-4473-b902-6a4bc37ae0e9"
      },
      "outputs": [
        {
          "output_type": "display_data",
          "data": {
            "text/plain": [
              "<IPython.core.display.HTML object>"
            ],
            "text/html": [
              "\n",
              "     <input type=\"file\" id=\"files-1d826c18-b58a-4ccb-bdc0-9a08175e7cf4\" name=\"files[]\" multiple disabled\n",
              "        style=\"border:none\" />\n",
              "     <output id=\"result-1d826c18-b58a-4ccb-bdc0-9a08175e7cf4\">\n",
              "      Upload widget is only available when the cell has been executed in the\n",
              "      current browser session. Please rerun this cell to enable.\n",
              "      </output>\n",
              "      <script>// Copyright 2017 Google LLC\n",
              "//\n",
              "// Licensed under the Apache License, Version 2.0 (the \"License\");\n",
              "// you may not use this file except in compliance with the License.\n",
              "// You may obtain a copy of the License at\n",
              "//\n",
              "//      http://www.apache.org/licenses/LICENSE-2.0\n",
              "//\n",
              "// Unless required by applicable law or agreed to in writing, software\n",
              "// distributed under the License is distributed on an \"AS IS\" BASIS,\n",
              "// WITHOUT WARRANTIES OR CONDITIONS OF ANY KIND, either express or implied.\n",
              "// See the License for the specific language governing permissions and\n",
              "// limitations under the License.\n",
              "\n",
              "/**\n",
              " * @fileoverview Helpers for google.colab Python module.\n",
              " */\n",
              "(function(scope) {\n",
              "function span(text, styleAttributes = {}) {\n",
              "  const element = document.createElement('span');\n",
              "  element.textContent = text;\n",
              "  for (const key of Object.keys(styleAttributes)) {\n",
              "    element.style[key] = styleAttributes[key];\n",
              "  }\n",
              "  return element;\n",
              "}\n",
              "\n",
              "// Max number of bytes which will be uploaded at a time.\n",
              "const MAX_PAYLOAD_SIZE = 100 * 1024;\n",
              "\n",
              "function _uploadFiles(inputId, outputId) {\n",
              "  const steps = uploadFilesStep(inputId, outputId);\n",
              "  const outputElement = document.getElementById(outputId);\n",
              "  // Cache steps on the outputElement to make it available for the next call\n",
              "  // to uploadFilesContinue from Python.\n",
              "  outputElement.steps = steps;\n",
              "\n",
              "  return _uploadFilesContinue(outputId);\n",
              "}\n",
              "\n",
              "// This is roughly an async generator (not supported in the browser yet),\n",
              "// where there are multiple asynchronous steps and the Python side is going\n",
              "// to poll for completion of each step.\n",
              "// This uses a Promise to block the python side on completion of each step,\n",
              "// then passes the result of the previous step as the input to the next step.\n",
              "function _uploadFilesContinue(outputId) {\n",
              "  const outputElement = document.getElementById(outputId);\n",
              "  const steps = outputElement.steps;\n",
              "\n",
              "  const next = steps.next(outputElement.lastPromiseValue);\n",
              "  return Promise.resolve(next.value.promise).then((value) => {\n",
              "    // Cache the last promise value to make it available to the next\n",
              "    // step of the generator.\n",
              "    outputElement.lastPromiseValue = value;\n",
              "    return next.value.response;\n",
              "  });\n",
              "}\n",
              "\n",
              "/**\n",
              " * Generator function which is called between each async step of the upload\n",
              " * process.\n",
              " * @param {string} inputId Element ID of the input file picker element.\n",
              " * @param {string} outputId Element ID of the output display.\n",
              " * @return {!Iterable<!Object>} Iterable of next steps.\n",
              " */\n",
              "function* uploadFilesStep(inputId, outputId) {\n",
              "  const inputElement = document.getElementById(inputId);\n",
              "  inputElement.disabled = false;\n",
              "\n",
              "  const outputElement = document.getElementById(outputId);\n",
              "  outputElement.innerHTML = '';\n",
              "\n",
              "  const pickedPromise = new Promise((resolve) => {\n",
              "    inputElement.addEventListener('change', (e) => {\n",
              "      resolve(e.target.files);\n",
              "    });\n",
              "  });\n",
              "\n",
              "  const cancel = document.createElement('button');\n",
              "  inputElement.parentElement.appendChild(cancel);\n",
              "  cancel.textContent = 'Cancel upload';\n",
              "  const cancelPromise = new Promise((resolve) => {\n",
              "    cancel.onclick = () => {\n",
              "      resolve(null);\n",
              "    };\n",
              "  });\n",
              "\n",
              "  // Wait for the user to pick the files.\n",
              "  const files = yield {\n",
              "    promise: Promise.race([pickedPromise, cancelPromise]),\n",
              "    response: {\n",
              "      action: 'starting',\n",
              "    }\n",
              "  };\n",
              "\n",
              "  cancel.remove();\n",
              "\n",
              "  // Disable the input element since further picks are not allowed.\n",
              "  inputElement.disabled = true;\n",
              "\n",
              "  if (!files) {\n",
              "    return {\n",
              "      response: {\n",
              "        action: 'complete',\n",
              "      }\n",
              "    };\n",
              "  }\n",
              "\n",
              "  for (const file of files) {\n",
              "    const li = document.createElement('li');\n",
              "    li.append(span(file.name, {fontWeight: 'bold'}));\n",
              "    li.append(span(\n",
              "        `(${file.type || 'n/a'}) - ${file.size} bytes, ` +\n",
              "        `last modified: ${\n",
              "            file.lastModifiedDate ? file.lastModifiedDate.toLocaleDateString() :\n",
              "                                    'n/a'} - `));\n",
              "    const percent = span('0% done');\n",
              "    li.appendChild(percent);\n",
              "\n",
              "    outputElement.appendChild(li);\n",
              "\n",
              "    const fileDataPromise = new Promise((resolve) => {\n",
              "      const reader = new FileReader();\n",
              "      reader.onload = (e) => {\n",
              "        resolve(e.target.result);\n",
              "      };\n",
              "      reader.readAsArrayBuffer(file);\n",
              "    });\n",
              "    // Wait for the data to be ready.\n",
              "    let fileData = yield {\n",
              "      promise: fileDataPromise,\n",
              "      response: {\n",
              "        action: 'continue',\n",
              "      }\n",
              "    };\n",
              "\n",
              "    // Use a chunked sending to avoid message size limits. See b/62115660.\n",
              "    let position = 0;\n",
              "    do {\n",
              "      const length = Math.min(fileData.byteLength - position, MAX_PAYLOAD_SIZE);\n",
              "      const chunk = new Uint8Array(fileData, position, length);\n",
              "      position += length;\n",
              "\n",
              "      const base64 = btoa(String.fromCharCode.apply(null, chunk));\n",
              "      yield {\n",
              "        response: {\n",
              "          action: 'append',\n",
              "          file: file.name,\n",
              "          data: base64,\n",
              "        },\n",
              "      };\n",
              "\n",
              "      let percentDone = fileData.byteLength === 0 ?\n",
              "          100 :\n",
              "          Math.round((position / fileData.byteLength) * 100);\n",
              "      percent.textContent = `${percentDone}% done`;\n",
              "\n",
              "    } while (position < fileData.byteLength);\n",
              "  }\n",
              "\n",
              "  // All done.\n",
              "  yield {\n",
              "    response: {\n",
              "      action: 'complete',\n",
              "    }\n",
              "  };\n",
              "}\n",
              "\n",
              "scope.google = scope.google || {};\n",
              "scope.google.colab = scope.google.colab || {};\n",
              "scope.google.colab._files = {\n",
              "  _uploadFiles,\n",
              "  _uploadFilesContinue,\n",
              "};\n",
              "})(self);\n",
              "</script> "
            ]
          },
          "metadata": {}
        },
        {
          "output_type": "stream",
          "name": "stdout",
          "text": [
            "Saving data.txt to data (1).txt\n"
          ]
        }
      ],
      "source": [
        "from google.colab import files\n",
        "data = files.upload()"
      ],
      "id": "78JeSQ5flCgB"
    },
    {
      "cell_type": "code",
      "execution_count": 95,
      "metadata": {
        "id": "BgOqophTk6vd"
      },
      "outputs": [],
      "source": [
        "# Load data from file\n",
        "data = np.loadtxt(\"data.txt\", comments=\"#\", delimiter=\"\\t\", dtype=int, unpack=False, skiprows=2)"
      ],
      "id": "BgOqophTk6vd"
    },
    {
      "cell_type": "code",
      "source": [
        "# Create the adjacency matrix\n",
        "adjcency_matrix = coo_matrix((np.ones(data.shape[0]), (data[:, 0], data[:, 1])))"
      ],
      "metadata": {
        "id": "nr5u1EfzuiIP"
      },
      "id": "nr5u1EfzuiIP",
      "execution_count": 96,
      "outputs": []
    },
    {
      "cell_type": "markdown",
      "source": [
        "Use this cell to normalize the matrix as you see fit."
      ],
      "metadata": {
        "id": "WCVqhUI6_vW4"
      },
      "id": "WCVqhUI6_vW4"
    },
    {
      "cell_type": "code",
      "source": [
        "# Normalize adjacency matrix\n",
        "normalized_matrix = normalize(adjcency_matrix, norm='l1', axis=1)\n"
      ],
      "metadata": {
        "id": "s44PaK38zjq1"
      },
      "id": "s44PaK38zjq1",
      "execution_count": 110,
      "outputs": []
    },
    {
      "cell_type": "markdown",
      "source": [
        "Apply the PageRank algorithm to the matrix you created."
      ],
      "metadata": {
        "id": "XIXivoHi_4u8"
      },
      "id": "XIXivoHi_4u8"
    },
    {
      "cell_type": "code",
      "source": [
        "def pageRank(data, max_iter, damping_factor, tol):\n",
        "\n",
        "  # Initialize PageRank scores\n",
        "  number_nodes = data.shape[0]\n",
        "  X = np.ones(number_nodes) / number_nodes\n",
        "\n",
        "  # Run PageRank algorithm\n",
        "  for i in range(max_iter):\n",
        "      X_ = X.copy()\n",
        "      X = data.dot(pagerank) * damping_factor + (1 - damping_factor)*np.ones(number_nodes)/ number_nodes\n",
        "      delta = np.abs(X- X_).sum()\n",
        "      if delta < tol:\n",
        "          print(f\"Converged after {i+1} iterations\")\n",
        "          break\n",
        "      return X\n",
        "\n",
        "pagerank = pageRank(normalized_matrix,max_iter = 100, damping_factor=0.85, tol=1e-6)"
      ],
      "metadata": {
        "id": "MjnvMucGzkyS"
      },
      "id": "MjnvMucGzkyS",
      "execution_count": 100,
      "outputs": []
    },
    {
      "cell_type": "markdown",
      "source": [
        "Output a list of the 100 most important papers along with their importance"
      ],
      "metadata": {
        "id": "QlWFobcZ_8Qm"
      },
      "id": "QlWFobcZ_8Qm"
    },
    {
      "cell_type": "code",
      "source": [
        "# Sort nodes by PageRank score in descending order\n",
        "pagerank_scores = {i: score for i, score in enumerate(pagerank)}\n",
        "sorted_scores = sorted(pagerank_scores.items(), key=lambda x: x[1], reverse=True)\n",
        "\n",
        "# Print top 10 nodes by PageRank score\n",
        "print(\"Top 100 nodes by PageRank score:\")\n",
        "for node, score in sorted_scores[:100]:\n",
        "    print(f\" {node}: {score:.5f}\")"
      ],
      "metadata": {
        "colab": {
          "base_uri": "https://localhost:8080/"
        },
        "id": "Z5QGV-nh1q-7",
        "outputId": "79f5c366-be47-4320-87c4-6db5ca41bd89"
      },
      "id": "Z5QGV-nh1q-7",
      "execution_count": 103,
      "outputs": [
        {
          "output_type": "stream",
          "name": "stdout",
          "text": [
            "Top 100 nodes by PageRank score:\n",
            "Node 9905111: 0.00001\n",
            "Node 9710046: 0.00001\n",
            "Node 110055: 0.00000\n",
            "Node 210157: 0.00000\n",
            "Node 7170: 0.00000\n",
            "Node 101126: 0.00000\n",
            "Node 204089: 0.00000\n",
            "Node 9802051: 0.00000\n",
            "Node 9809039: 0.00000\n",
            "Node 9802067: 0.00000\n",
            "Node 9712253: 0.00000\n",
            "Node 201253: 0.00000\n",
            "Node 11197: 0.00000\n",
            "Node 209230: 0.00000\n",
            "Node 109162: 0.00000\n",
            "Node 204253: 0.00000\n",
            "Node 9909061: 0.00000\n",
            "Node 9611190: 0.00000\n",
            "Node 207130: 0.00000\n",
            "Node 207116: 0.00000\n",
            "Node 111208: 0.00000\n",
            "Node 209241: 0.00000\n",
            "Node 9906142: 0.00000\n",
            "Node 210292: 0.00000\n",
            "Node 9806199: 0.00000\n",
            "Node 9807171: 0.00000\n",
            "Node 211245: 0.00000\n",
            "Node 9906018: 0.00000\n",
            "Node 9202: 0.00000\n",
            "Node 3190: 0.00000\n",
            "Node 7195: 0.00000\n",
            "Node 106048: 0.00000\n",
            "Node 210224: 0.00000\n",
            "Node 206063: 0.00000\n",
            "Node 9812061: 0.00000\n",
            "Node 9908004: 0.00000\n",
            "Node 9705131: 0.00000\n",
            "Node 211178: 0.00000\n",
            "Node 203048: 0.00000\n",
            "Node 9912164: 0.00000\n",
            "Node 303185: 0.00000\n",
            "Node 108172: 0.00000\n",
            "Node 9801182: 0.00000\n",
            "Node 9803072: 0.00000\n",
            "Node 203157: 0.00000\n",
            "Node 110274: 0.00000\n",
            "Node 104031: 0.00000\n",
            "Node 303256: 0.00000\n",
            "Node 206038: 0.00000\n",
            "Node 9710231: 0.00000\n",
            "Node 302125: 0.00000\n",
            "Node 9806123: 0.00000\n",
            "Node 109212: 0.00000\n",
            "Node 111284: 0.00000\n",
            "Node 303191: 0.00000\n",
            "Node 9801132: 0.00000\n",
            "Node 107081: 0.00000\n",
            "Node 106201: 0.00000\n",
            "Node 3086: 0.00000\n",
            "Node 9611184: 0.00000\n",
            "Node 9911022: 0.00000\n",
            "Node 303072: 0.00000\n",
            "Node 209169: 0.00000\n",
            "Node 9903268: 0.00000\n",
            "Node 208142: 0.00000\n",
            "Node 9709172: 0.00000\n",
            "Node 9908199: 0.00000\n",
            "Node 203101: 0.00000\n",
            "Node 205060: 0.00000\n",
            "Node 9912271: 0.00000\n",
            "Node 9505052: 0.00000\n",
            "Node 101036: 0.00000\n",
            "Node 8241: 0.00000\n",
            "Node 9812072: 0.00000\n",
            "Node 9708009: 0.00000\n",
            "Node 9708164: 0.00000\n",
            "Node 9811093: 0.00000\n",
            "Node 9901050: 0.00000\n",
            "Node 210249: 0.00000\n",
            "Node 212253: 0.00000\n",
            "Node 9612192: 0.00000\n",
            "Node 9506171: 0.00000\n",
            "Node 102085: 0.00000\n",
            "Node 109092: 0.00000\n",
            "Node 9910053: 0.00000\n",
            "Node 12062: 0.00000\n",
            "Node 2016: 0.00000\n",
            "Node 9305040: 0.00000\n",
            "Node 9908171: 0.00000\n",
            "Node 9806104: 0.00000\n",
            "Node 9811019: 0.00000\n",
            "Node 9709062: 0.00000\n",
            "Node 2034: 0.00000\n",
            "Node 9801144: 0.00000\n",
            "Node 212313: 0.00000\n",
            "Node 302191: 0.00000\n",
            "Node 9603074: 0.00000\n",
            "Node 9611203: 0.00000\n",
            "Node 207105: 0.00000\n",
            "Node 9907123: 0.00000\n"
          ]
        }
      ]
    },
    {
      "cell_type": "markdown",
      "metadata": {
        "id": "fXmAN_D-k6vp"
      },
      "source": [
        "Visualize your results"
      ],
      "id": "fXmAN_D-k6vp"
    },
    {
      "cell_type": "code",
      "source": [
        "import matplotlib.pyplot as plt\n",
        "plt.fig()\n",
        "plt.barh(sorted_scores[0], sorted_scores[1][:100])\n",
        "plt.xlabel('Values')\n",
        "plt.ylabel('Nodes')\n",
        "plt.title('PageRank rank ')\n",
        "\n",
        "plt.show()"
      ],
      "metadata": {
        "colab": {
          "base_uri": "https://localhost:8080/",
          "height": 472
        },
        "id": "7LS0DTbS5Hp1",
        "outputId": "05c9706e-13f3-4192-ad57-92aa7d20608a"
      },
      "id": "7LS0DTbS5Hp1",
      "execution_count": 107,
      "outputs": [
        {
          "output_type": "display_data",
          "data": {
            "text/plain": [
              "<Figure size 640x480 with 1 Axes>"
            ],
            "image/png": "[encoded data removed]"
          },
          "metadata": {}
        }
      ]
    },
    {
      "cell_type": "code",
      "source": [],
      "metadata": {
        "id": "MMd0JPKH_WYe"
      },
      "id": "MMd0JPKH_WYe",
      "execution_count": null,
      "outputs": []
    }
  ],
  "metadata": {
    "colab": {
      "provenance": []
    },
    "kernelspec": {
      "display_name": "Python 3",
      "language": "python",
      "name": "python3"
    },
    "language_info": {
      "codemirror_mode": {
        "name": "ipython",
        "version": 3
      },
      "file_extension": ".py",
      "mimetype": "text/x-python",
      "name": "python",
      "nbconvert_exporter": "python",
      "pygments_lexer": "ipython3",
      "version": "3.7.9"
    }
  },
  "nbformat": 4,
  "nbformat_minor": 5
}