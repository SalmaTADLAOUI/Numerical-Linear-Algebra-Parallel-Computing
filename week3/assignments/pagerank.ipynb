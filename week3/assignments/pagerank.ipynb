{
  "cells": [
    {
      "cell_type": "markdown",
      "metadata": {
        "id": "Lv14dBIIk6vS"
      },
      "source": [
        "Use this cell for all your imports"
      ],
      "id": "Lv14dBIIk6vS"
    },
    {
      "cell_type": "code",
      "execution_count": 33,
      "metadata": {
        "id": "ia_XA6mRk6vZ"
      },
      "outputs": [],
      "source": [
        "import numpy as np\n",
        "import numpy.linalg as la\n",
        "from scipy.sparse import csr_matrix\n",
        "from sklearn.preprocessing import normalize"
      ],
      "id": "ia_XA6mRk6vZ"
    },
    {
      "cell_type": "markdown",
      "metadata": {
        "id": "3P1RsZrMk6vc"
      },
      "source": [
        "You will be working with the file data.txt. Use this cell to load its content into the appropriate data structure."
      ],
      "id": "3P1RsZrMk6vc"
    },
    {
      "cell_type": "code",
      "execution_count": 2,
      "metadata": {
        "colab": {
          "base_uri": "https://localhost:8080/",
          "height": 73
        },
        "id": "78JeSQ5flCgB",
        "outputId": "8a24f6c9-3a04-4f8e-9e04-8762f403b98d"
      },
      "outputs": [
        {
          "output_type": "display_data",
          "data": {
            "text/plain": [
              "<IPython.core.display.HTML object>"
            ],
            "text/html": [
              "\n",
              "     <input type=\"file\" id=\"files-8c255f29-03b8-4991-8340-99ce6eed43aa\" name=\"files[]\" multiple disabled\n",
              "        style=\"border:none\" />\n",
              "     <output id=\"result-8c255f29-03b8-4991-8340-99ce6eed43aa\">\n",
              "      Upload widget is only available when the cell has been executed in the\n",
              "      current browser session. Please rerun this cell to enable.\n",
              "      </output>\n",
              "      <script>// Copyright 2017 Google LLC\n",
              "//\n",
              "// Licensed under the Apache License, Version 2.0 (the \"License\");\n",
              "// you may not use this file except in compliance with the License.\n",
              "// You may obtain a copy of the License at\n",
              "//\n",
              "//      http://www.apache.org/licenses/LICENSE-2.0\n",
              "//\n",
              "// Unless required by applicable law or agreed to in writing, software\n",
              "// distributed under the License is distributed on an \"AS IS\" BASIS,\n",
              "// WITHOUT WARRANTIES OR CONDITIONS OF ANY KIND, either express or implied.\n",
              "// See the License for the specific language governing permissions and\n",
              "// limitations under the License.\n",
              "\n",
              "/**\n",
              " * @fileoverview Helpers for google.colab Python module.\n",
              " */\n",
              "(function(scope) {\n",
              "function span(text, styleAttributes = {}) {\n",
              "  const element = document.createElement('span');\n",
              "  element.textContent = text;\n",
              "  for (const key of Object.keys(styleAttributes)) {\n",
              "    element.style[key] = styleAttributes[key];\n",
              "  }\n",
              "  return element;\n",
              "}\n",
              "\n",
              "// Max number of bytes which will be uploaded at a time.\n",
              "const MAX_PAYLOAD_SIZE = 100 * 1024;\n",
              "\n",
              "function _uploadFiles(inputId, outputId) {\n",
              "  const steps = uploadFilesStep(inputId, outputId);\n",
              "  const outputElement = document.getElementById(outputId);\n",
              "  // Cache steps on the outputElement to make it available for the next call\n",
              "  // to uploadFilesContinue from Python.\n",
              "  outputElement.steps = steps;\n",
              "\n",
              "  return _uploadFilesContinue(outputId);\n",
              "}\n",
              "\n",
              "// This is roughly an async generator (not supported in the browser yet),\n",
              "// where there are multiple asynchronous steps and the Python side is going\n",
              "// to poll for completion of each step.\n",
              "// This uses a Promise to block the python side on completion of each step,\n",
              "// then passes the result of the previous step as the input to the next step.\n",
              "function _uploadFilesContinue(outputId) {\n",
              "  const outputElement = document.getElementById(outputId);\n",
              "  const steps = outputElement.steps;\n",
              "\n",
              "  const next = steps.next(outputElement.lastPromiseValue);\n",
              "  return Promise.resolve(next.value.promise).then((value) => {\n",
              "    // Cache the last promise value to make it available to the next\n",
              "    // step of the generator.\n",
              "    outputElement.lastPromiseValue = value;\n",
              "    return next.value.response;\n",
              "  });\n",
              "}\n",
              "\n",
              "/**\n",
              " * Generator function which is called between each async step of the upload\n",
              " * process.\n",
              " * @param {string} inputId Element ID of the input file picker element.\n",
              " * @param {string} outputId Element ID of the output display.\n",
              " * @return {!Iterable<!Object>} Iterable of next steps.\n",
              " */\n",
              "function* uploadFilesStep(inputId, outputId) {\n",
              "  const inputElement = document.getElementById(inputId);\n",
              "  inputElement.disabled = false;\n",
              "\n",
              "  const outputElement = document.getElementById(outputId);\n",
              "  outputElement.innerHTML = '';\n",
              "\n",
              "  const pickedPromise = new Promise((resolve) => {\n",
              "    inputElement.addEventListener('change', (e) => {\n",
              "      resolve(e.target.files);\n",
              "    });\n",
              "  });\n",
              "\n",
              "  const cancel = document.createElement('button');\n",
              "  inputElement.parentElement.appendChild(cancel);\n",
              "  cancel.textContent = 'Cancel upload';\n",
              "  const cancelPromise = new Promise((resolve) => {\n",
              "    cancel.onclick = () => {\n",
              "      resolve(null);\n",
              "    };\n",
              "  });\n",
              "\n",
              "  // Wait for the user to pick the files.\n",
              "  const files = yield {\n",
              "    promise: Promise.race([pickedPromise, cancelPromise]),\n",
              "    response: {\n",
              "      action: 'starting',\n",
              "    }\n",
              "  };\n",
              "\n",
              "  cancel.remove();\n",
              "\n",
              "  // Disable the input element since further picks are not allowed.\n",
              "  inputElement.disabled = true;\n",
              "\n",
              "  if (!files) {\n",
              "    return {\n",
              "      response: {\n",
              "        action: 'complete',\n",
              "      }\n",
              "    };\n",
              "  }\n",
              "\n",
              "  for (const file of files) {\n",
              "    const li = document.createElement('li');\n",
              "    li.append(span(file.name, {fontWeight: 'bold'}));\n",
              "    li.append(span(\n",
              "        `(${file.type || 'n/a'}) - ${file.size} bytes, ` +\n",
              "        `last modified: ${\n",
              "            file.lastModifiedDate ? file.lastModifiedDate.toLocaleDateString() :\n",
              "                                    'n/a'} - `));\n",
              "    const percent = span('0% done');\n",
              "    li.appendChild(percent);\n",
              "\n",
              "    outputElement.appendChild(li);\n",
              "\n",
              "    const fileDataPromise = new Promise((resolve) => {\n",
              "      const reader = new FileReader();\n",
              "      reader.onload = (e) => {\n",
              "        resolve(e.target.result);\n",
              "      };\n",
              "      reader.readAsArrayBuffer(file);\n",
              "    });\n",
              "    // Wait for the data to be ready.\n",
              "    let fileData = yield {\n",
              "      promise: fileDataPromise,\n",
              "      response: {\n",
              "        action: 'continue',\n",
              "      }\n",
              "    };\n",
              "\n",
              "    // Use a chunked sending to avoid message size limits. See b/62115660.\n",
              "    let position = 0;\n",
              "    do {\n",
              "      const length = Math.min(fileData.byteLength - position, MAX_PAYLOAD_SIZE);\n",
              "      const chunk = new Uint8Array(fileData, position, length);\n",
              "      position += length;\n",
              "\n",
              "      const base64 = btoa(String.fromCharCode.apply(null, chunk));\n",
              "      yield {\n",
              "        response: {\n",
              "          action: 'append',\n",
              "          file: file.name,\n",
              "          data: base64,\n",
              "        },\n",
              "      };\n",
              "\n",
              "      let percentDone = fileData.byteLength === 0 ?\n",
              "          100 :\n",
              "          Math.round((position / fileData.byteLength) * 100);\n",
              "      percent.textContent = `${percentDone}% done`;\n",
              "\n",
              "    } while (position < fileData.byteLength);\n",
              "  }\n",
              "\n",
              "  // All done.\n",
              "  yield {\n",
              "    response: {\n",
              "      action: 'complete',\n",
              "    }\n",
              "  };\n",
              "}\n",
              "\n",
              "scope.google = scope.google || {};\n",
              "scope.google.colab = scope.google.colab || {};\n",
              "scope.google.colab._files = {\n",
              "  _uploadFiles,\n",
              "  _uploadFilesContinue,\n",
              "};\n",
              "})(self);\n",
              "</script> "
            ]
          },
          "metadata": {}
        },
        {
          "output_type": "stream",
          "name": "stdout",
          "text": [
            "Saving data.txt to data.txt\n"
          ]
        }
      ],
      "source": [
        "from google.colab import files\n",
        "data = files.upload()"
      ],
      "id": "78JeSQ5flCgB"
    },
    {
      "cell_type": "code",
      "execution_count": 34,
      "metadata": {
        "id": "BgOqophTk6vd"
      },
      "outputs": [],
      "source": [
        "# Load data from file\n",
        "#data = np.loadtxt(\"data.txt\", comments=\"#\", delimiter=\"\\t\", dtype=int, unpack=False, skiprows=2)\n",
        "with open('data.txt', 'r') as f:\n",
        "    # skip the first three lines\n",
        "    for _ in range(3):\n",
        "        next(f)\n",
        "    \n",
        "    # read the data and convert to integers\n",
        "    data = []\n",
        "    for line in f:\n",
        "        if not line.startswith('#'):\n",
        "            from_node, to_node = map(int, line.strip().split())\n",
        "            data.append((from_node, to_node))"
      ],
      "id": "BgOqophTk6vd"
    },
    {
      "cell_type": "markdown",
      "source": [
        "Use this cell to normalize the matrix as you see fit."
      ],
      "metadata": {
        "id": "GGgtLCurk-Cw"
      },
      "id": "GGgtLCurk-Cw"
    },
    {
      "cell_type": "code",
      "source": [
        "n_nodes = np.max(data)  # assumes that node IDs start at 1 and are consecutive integers\n",
        "row, col = np.array(data).T - 1  # convert to 0-based indexing\n",
        "normalized_matrix = csr_matrix((np.ones(len(data)), (row, col)), shape=(n_nodes, n_nodes))"
      ],
      "metadata": {
        "id": "94x_cNCUjttv"
      },
      "id": "94x_cNCUjttv",
      "execution_count": 35,
      "outputs": []
    },
    {
      "cell_type": "markdown",
      "source": [
        "Apply the PageRank algorithm to the matrix you created."
      ],
      "metadata": {
        "id": "XIXivoHi_4u8"
      },
      "id": "XIXivoHi_4u8"
    },
    {
      "cell_type": "code",
      "source": [
        "def pageRank(data, max_iter, damping_factor, tol):\n",
        "\n",
        "  # Initialize PageRank scores\n",
        "  number_nodes = data.shape[0]\n",
        "  X = np.ones(number_nodes) / number_nodes\n",
        "\n",
        "  # Run PageRank algorithm\n",
        "  for i in range(max_iter):\n",
        "      X_ = X.copy()\n",
        "      #X = data.dot(X) * damping_factor + (1 - damping_factor)/ number_nodes\n",
        "      X= damping_factor * (data @ X) + (1 - damping_factor) / number_nodes\n",
        "      delta = np.abs(X- X_).sum()\n",
        "      if delta < tol:\n",
        "          print(f\"Converged after {i+1} iterations\")\n",
        "          break\n",
        "      return X\n",
        "\n",
        "pagerank = pageRank(normalized_matrix,max_iter = 100, damping_factor=0.85, tol=1e-6)"
      ],
      "metadata": {
        "id": "MjnvMucGzkyS"
      },
      "id": "MjnvMucGzkyS",
      "execution_count": 36,
      "outputs": []
    },
    {
      "cell_type": "markdown",
      "source": [
        "Output a list of the 100 most important papers along with their importance"
      ],
      "metadata": {
        "id": "QlWFobcZ_8Qm"
      },
      "id": "QlWFobcZ_8Qm"
    },
    {
      "cell_type": "code",
      "source": [
        "# Sort nodes by PageRank score in descending order\n",
        "pagerank_scores = {i: score for i, score in enumerate(pagerank)}\n",
        "sorted_scores = sorted(pagerank_scores.items(), key=lambda x: x[1], reverse=True)\n",
        "\n",
        "# Print top 10 nodes by PageRank score\n",
        "print(\"Top 100 nodes by PageRank score:\")\n",
        "for node, score in sorted_scores[:100]:\n",
        "    print(f\" {node}: {score:.5f}\")"
      ],
      "metadata": {
        "colab": {
          "base_uri": "https://localhost:8080/"
        },
        "id": "Z5QGV-nh1q-7",
        "outputId": "e59090e3-3874-41b0-cbe2-a1333d366b0a"
      },
      "id": "Z5QGV-nh1q-7",
      "execution_count": 37,
      "outputs": [
        {
          "output_type": "stream",
          "name": "stdout",
          "text": [
            "Top 100 nodes by PageRank score:\n",
            " 9905110: 0.00005\n",
            " 9710045: 0.00003\n",
            " 110054: 0.00003\n",
            " 210156: 0.00002\n",
            " 101125: 0.00002\n",
            " 7169: 0.00002\n",
            " 204088: 0.00002\n",
            " 201252: 0.00002\n",
            " 9809038: 0.00002\n",
            " 9802066: 0.00002\n",
            " 109161: 0.00002\n",
            " 207115: 0.00002\n",
            " 9802050: 0.00002\n",
            " 9712252: 0.00002\n",
            " 111207: 0.00002\n",
            " 209229: 0.00002\n",
            " 11196: 0.00002\n",
            " 210291: 0.00002\n",
            " 209240: 0.00002\n",
            " 106047: 0.00002\n",
            " 211177: 0.00001\n",
            " 210223: 0.00001\n",
            " 9807170: 0.00001\n",
            " 9611189: 0.00001\n",
            " 204252: 0.00001\n",
            " 9806198: 0.00001\n",
            " 9201: 0.00001\n",
            " 9906141: 0.00001\n",
            " 211244: 0.00001\n",
            " 207129: 0.00001\n",
            " 9906017: 0.00001\n",
            " 9909060: 0.00001\n",
            " 108171: 0.00001\n",
            " 206062: 0.00001\n",
            " 7194: 0.00001\n",
            " 203047: 0.00001\n",
            " 303190: 0.00001\n",
            " 303255: 0.00001\n",
            " 206037: 0.00001\n",
            " 3189: 0.00001\n",
            " 9908003: 0.00001\n",
            " 9912163: 0.00001\n",
            " 9705130: 0.00001\n",
            " 9801181: 0.00001\n",
            " 3085: 0.00001\n",
            " 208141: 0.00001\n",
            " 9803071: 0.00001\n",
            " 104030: 0.00001\n",
            " 302124: 0.00001\n",
            " 106200: 0.00001\n",
            " 203156: 0.00001\n",
            " 303071: 0.00001\n",
            " 9710230: 0.00001\n",
            " 110273: 0.00001\n",
            " 303184: 0.00001\n",
            " 107080: 0.00001\n",
            " 9812060: 0.00001\n",
            " 9806122: 0.00001\n",
            " 109091: 0.00001\n",
            " 9801131: 0.00001\n",
            " 111283: 0.00001\n",
            " 210248: 0.00001\n",
            " 203100: 0.00001\n",
            " 205059: 0.00001\n",
            " 9812071: 0.00001\n",
            " 9903267: 0.00001\n",
            " 9911021: 0.00001\n",
            " 2015: 0.00001\n",
            " 102084: 0.00001\n",
            " 207104: 0.00001\n",
            " 212252: 0.00001\n",
            " 303094: 0.00001\n",
            " 9912270: 0.00001\n",
            " 109211: 0.00001\n",
            " 212313: 0.00001\n",
            " 9908170: 0.00001\n",
            " 2117: 0.00001\n",
            " 8240: 0.00001\n",
            " 9709171: 0.00001\n",
            " 9806103: 0.00001\n",
            " 9910052: 0.00001\n",
            " 9611183: 0.00001\n",
            " 9811018: 0.00001\n",
            " 110083: 0.00001\n",
            " 209168: 0.00001\n",
            " 303171: 0.00001\n",
            " 10053: 0.00001\n",
            " 106126: 0.00001\n",
            " 205305: 0.00001\n",
            " 205186: 0.00001\n",
            " 205199: 0.00001\n",
            " 210133: 0.00001\n",
            " 302029: 0.00001\n",
            " 9708163: 0.00001\n",
            " 302190: 0.00001\n",
            " 212312: 0.00001\n",
            " 9901049: 0.00001\n",
            " 301093: 0.00001\n",
            " 301135: 0.00001\n",
            " 9612191: 0.00001\n"
          ]
        }
      ]
    },
    {
      "cell_type": "markdown",
      "metadata": {
        "id": "fXmAN_D-k6vp"
      },
      "source": [
        "Visualize your results"
      ],
      "id": "fXmAN_D-k6vp"
    },
    {
      "cell_type": "code",
      "source": [
        "import matplotlib.pyplot as plt\n",
        "# Create a list of the top 100 paper scores\n",
        "scores = [score for _, score in sorted_scores[:100]]\n",
        "\n",
        "plt.hist(scores, bins=20)\n",
        "plt.xlabel('PageRank score')\n",
        "plt.ylabel('Frequency')\n",
        "plt.title('Top 100 papers')\n",
        "plt.show()"
      ],
      "metadata": {
        "colab": {
          "base_uri": "https://localhost:8080/",
          "height": 472
        },
        "id": "7LS0DTbS5Hp1",
        "outputId": "46b26826-3a07-4e44-bd65-8ef49fdefaaa"
      },
      "id": "7LS0DTbS5Hp1",
      "execution_count": 42,
      "outputs": [
        {
          "output_type": "display_data",
          "data": {
            "text/plain": [
              "<Figure size 640x480 with 1 Axes>"
            ],
            "image/png": "[encoded data removed]"
          },
          "metadata": {}
        }
      ]
    },
    {
      "cell_type": "code",
      "source": [],
      "metadata": {
        "id": "4YyAgNyAnJRz"
      },
      "id": "4YyAgNyAnJRz",
      "execution_count": null,
      "outputs": []
    }
  ],
  "metadata": {
    "colab": {
      "provenance": []
    },
    "kernelspec": {
      "display_name": "Python 3",
      "language": "python",
      "name": "python3"
    },
    "language_info": {
      "codemirror_mode": {
        "name": "ipython",
        "version": 3
      },
      "file_extension": ".py",
      "mimetype": "text/x-python",
      "name": "python",
      "nbconvert_exporter": "python",
      "pygments_lexer": "ipython3",
      "version": "3.7.9"
    }
  },
  "nbformat": 4,
  "nbformat_minor": 5
}