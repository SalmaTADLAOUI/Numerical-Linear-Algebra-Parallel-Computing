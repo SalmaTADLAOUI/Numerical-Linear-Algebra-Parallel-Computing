{
 "cells": [
  {
   "cell_type": "markdown",
   "metadata": {},
   "source": [
    "Use this cell for all your imports"
   ]
  },
  {
   "cell_type": "code",
   "execution_count": 27,
   "metadata": {},
   "outputs": [],
   "source": [
    "import numpy as np\n",
    "import numpy.linalg as na\n"
   ]
  },
  {
   "cell_type": "markdown",
   "metadata": {},
   "source": [
    "You will be working with the file data.txt. Use this cell to load its content into the appropriate data structure."
   ]
  },
  {
   "cell_type": "code",
   "execution_count": 28,
   "metadata": {},
   "outputs": [],
   "source": [
    "# Initialize an empty dictionary to represent the adjacency list\n",
    "graph = {}\n",
    "\n",
    "# Open the data file and read each line\n",
    "with open('data.txt') as f:\n",
    "    for line in f:\n",
    "        # Ignore comment lines\n",
    "        if line.startswith('#'):\n",
    "            continue\n",
    "        \n",
    "        # Parse the edge information from the line\n",
    "        source, target = line.strip().split()\n",
    "        \n",
    "        # Add the edge to the graph\n",
    "        if source in graph:\n",
    "            graph[source].append(target)\n",
    "        else:\n",
    "            graph[source] = [target]"
   ]
  },
  {
   "cell_type": "code",
   "execution_count": 49,
   "metadata": {},
   "outputs": [
    {
     "ename": "MemoryError",
     "evalue": "Unable to allocate 2.87 GiB for an array with shape (27770, 27770) and data type int32",
     "output_type": "error",
     "traceback": [
      "\u001b[1;31m---------------------------------------------------------------------------\u001b[0m",
      "\u001b[1;31mMemoryError\u001b[0m                               Traceback (most recent call last)",
      "\u001b[1;32m<ipython-input-49-866522e5693e>\u001b[0m in \u001b[0;36m<module>\u001b[1;34m\u001b[0m\n\u001b[0;32m     19\u001b[0m     \u001b[1;31m# Create a square matrix of size |nodes| x |nodes|\u001b[0m\u001b[1;33m\u001b[0m\u001b[1;33m\u001b[0m\u001b[1;33m\u001b[0m\u001b[0m\n\u001b[0;32m     20\u001b[0m     \u001b[0msize\u001b[0m \u001b[1;33m=\u001b[0m \u001b[0mlen\u001b[0m\u001b[1;33m(\u001b[0m\u001b[0mnodes\u001b[0m\u001b[1;33m)\u001b[0m\u001b[1;33m\u001b[0m\u001b[1;33m\u001b[0m\u001b[0m\n\u001b[1;32m---> 21\u001b[1;33m     \u001b[0mmatrix\u001b[0m \u001b[1;33m=\u001b[0m \u001b[0mnp\u001b[0m\u001b[1;33m.\u001b[0m\u001b[0mzeros\u001b[0m\u001b[1;33m(\u001b[0m\u001b[1;33m(\u001b[0m\u001b[0msize\u001b[0m\u001b[1;33m,\u001b[0m \u001b[0msize\u001b[0m\u001b[1;33m)\u001b[0m\u001b[1;33m,\u001b[0m \u001b[0mdtype\u001b[0m\u001b[1;33m=\u001b[0m\u001b[0mint\u001b[0m\u001b[1;33m)\u001b[0m\u001b[1;33m\u001b[0m\u001b[1;33m\u001b[0m\u001b[0m\n\u001b[0m\u001b[0;32m     22\u001b[0m \u001b[1;33m\u001b[0m\u001b[0m\n\u001b[0;32m     23\u001b[0m     \u001b[1;31m# Reset the file pointer\u001b[0m\u001b[1;33m\u001b[0m\u001b[1;33m\u001b[0m\u001b[1;33m\u001b[0m\u001b[0m\n",
      "\u001b[1;31mMemoryError\u001b[0m: Unable to allocate 2.87 GiB for an array with shape (27770, 27770) and data type int32"
     ]
    }
   ],
   "source": [
    "import numpy as np\n",
    "\n",
    "# Open the data file and read each line\n",
    "with open('data.txt') as f:\n",
    "    # Find the number of nodes in the graph\n",
    "    nodes = set()\n",
    "    for line in f:\n",
    "        # Ignore comment lines\n",
    "        if line.startswith('#'):\n",
    "            continue\n",
    "        \n",
    "        # Parse the edge information from the line\n",
    "        source, target = line.strip().split()\n",
    "        \n",
    "        # Add the nodes to the set\n",
    "        nodes.add(source)\n",
    "        nodes.add(target)\n",
    "    \n",
    "    # Create a square matrix of size |nodes| x |nodes|\n",
    "    size = len(nodes)\n",
    "    matrix = np.zeros((size, size), dtype=int)\n",
    "\n",
    "    # Reset the file pointer\n",
    "    f.seek(0)\n",
    "\n",
    "    # Fill in the matrix with the edges\n",
    "    for line in f:\n",
    "        # Ignore comment lines\n",
    "        if line.startswith('#'):\n",
    "            continue\n",
    "        \n",
    "        # Parse the edge information from the line\n",
    "        source, target = line.strip().split()\n",
    "        \n",
    "        # Get the indices of the nodes\n",
    "        source_index = list(nodes).index(source)\n",
    "        target_index = list(nodes).index(target)\n",
    "\n",
    "        # Add the edge to the matrix\n",
    "        matrix[source_index][target_index] = 1\n"
   ]
  },
  {
   "cell_type": "markdown",
   "metadata": {},
   "source": [
    "Use this cell to normalize the matrix as you see fit."
   ]
  },
  {
   "cell_type": "code",
   "execution_count": 29,
   "metadata": {},
   "outputs": [],
   "source": [
    "num_nodes = len(graph)\n",
    "for node in graph:\n",
    "    out_links = len(graph[node])\n",
    "    for i in range(out_links):\n",
    "        graph[node][i] = graph[node][i] + ',' + str(1/out_links)"
   ]
  },
  {
   "cell_type": "markdown",
   "metadata": {},
   "source": [
    "Apply the PageRank algorithm to the matrix you created."
   ]
  },
  {
   "cell_type": "code",
   "execution_count": 10,
   "metadata": {},
   "outputs": [],
   "source": [
    "def pageRank(data, d, max_iter, tol):\n",
    "\n",
    "    n = len(data)\n",
    "    M = (1-d)*data + (d/n)*np.one([n,n])\n",
    "    x = np.ones(n)\n",
    "    x_n = x\n",
    "    x = M @ x\n",
    "    while la.norm(x_n-n) > tol:\n",
    "        for iter in range(max_iter):\n",
    "            x_n = x\n",
    "            x = M @ x\n",
    "    return x"
   ]
  },
  {
   "cell_type": "code",
   "execution_count": 11,
   "metadata": {},
   "outputs": [
    {
     "ename": "TypeError",
     "evalue": "can't multiply sequence by non-int of type 'float'",
     "output_type": "error",
     "traceback": [
      "\u001b[1;31m---------------------------------------------------------------------------\u001b[0m",
      "\u001b[1;31mTypeError\u001b[0m                                 Traceback (most recent call last)",
      "\u001b[1;32m<ipython-input-11-00af1b4c9379>\u001b[0m in \u001b[0;36m<module>\u001b[1;34m\u001b[0m\n\u001b[1;32m----> 1\u001b[1;33m \u001b[0mranks\u001b[0m \u001b[1;33m=\u001b[0m \u001b[0mpageRank\u001b[0m\u001b[1;33m(\u001b[0m\u001b[0medgelist\u001b[0m\u001b[1;33m,\u001b[0m \u001b[1;36m0.15\u001b[0m\u001b[1;33m,\u001b[0m \u001b[1;36m100\u001b[0m\u001b[1;33m,\u001b[0m \u001b[1;36m0.2\u001b[0m\u001b[1;33m)\u001b[0m\u001b[1;33m\u001b[0m\u001b[1;33m\u001b[0m\u001b[0m\n\u001b[0m",
      "\u001b[1;32m<ipython-input-10-f725bc7d37f0>\u001b[0m in \u001b[0;36mpageRank\u001b[1;34m(data, d, max_iter, tol)\u001b[0m\n\u001b[0;32m      2\u001b[0m \u001b[1;33m\u001b[0m\u001b[0m\n\u001b[0;32m      3\u001b[0m     \u001b[0mn\u001b[0m \u001b[1;33m=\u001b[0m \u001b[0mlen\u001b[0m\u001b[1;33m(\u001b[0m\u001b[0mdata\u001b[0m\u001b[1;33m)\u001b[0m\u001b[1;33m\u001b[0m\u001b[1;33m\u001b[0m\u001b[0m\n\u001b[1;32m----> 4\u001b[1;33m     \u001b[0mM\u001b[0m \u001b[1;33m=\u001b[0m \u001b[1;33m(\u001b[0m\u001b[1;36m1\u001b[0m\u001b[1;33m-\u001b[0m\u001b[0md\u001b[0m\u001b[1;33m)\u001b[0m\u001b[1;33m*\u001b[0m\u001b[0mdata\u001b[0m \u001b[1;33m+\u001b[0m \u001b[1;33m(\u001b[0m\u001b[0md\u001b[0m\u001b[1;33m/\u001b[0m\u001b[0mn\u001b[0m\u001b[1;33m)\u001b[0m\u001b[1;33m*\u001b[0m\u001b[0mnp\u001b[0m\u001b[1;33m.\u001b[0m\u001b[0mone\u001b[0m\u001b[1;33m(\u001b[0m\u001b[1;33m[\u001b[0m\u001b[0mn\u001b[0m\u001b[1;33m,\u001b[0m\u001b[0mn\u001b[0m\u001b[1;33m]\u001b[0m\u001b[1;33m)\u001b[0m\u001b[1;33m\u001b[0m\u001b[1;33m\u001b[0m\u001b[0m\n\u001b[0m\u001b[0;32m      5\u001b[0m     \u001b[0mx\u001b[0m \u001b[1;33m=\u001b[0m \u001b[0mnp\u001b[0m\u001b[1;33m.\u001b[0m\u001b[0mones\u001b[0m\u001b[1;33m(\u001b[0m\u001b[0mn\u001b[0m\u001b[1;33m)\u001b[0m\u001b[1;33m\u001b[0m\u001b[1;33m\u001b[0m\u001b[0m\n\u001b[0;32m      6\u001b[0m     \u001b[0mx_n\u001b[0m \u001b[1;33m=\u001b[0m \u001b[0mx\u001b[0m\u001b[1;33m\u001b[0m\u001b[1;33m\u001b[0m\u001b[0m\n",
      "\u001b[1;31mTypeError\u001b[0m: can't multiply sequence by non-int of type 'float'"
     ]
    }
   ],
   "source": [
    "ranks = pageRank(edgelist, 0.15, 100, 0.2)"
   ]
  },
  {
   "cell_type": "code",
   "execution_count": 47,
   "metadata": {},
   "outputs": [],
   "source": [
    "import numpy as np\n",
    "from scipy.sparse import dok_matrix\n",
    "from scipy.sparse.linalg import norm\n",
    "\n",
    "\n",
    "def pagerank(adj_list, damping_factor=0.85, max_iter=100, tol=1e-6):\n",
    "    \"\"\"\n",
    "    Computes the PageRank of the nodes in a directed graph represented by an\n",
    "    adjacency list.\n",
    "\n",
    "    Parameters\n",
    "    ----------\n",
    "    adj_list : dict\n",
    "        A dictionary where the keys represent the nodes in the graph and the\n",
    "        values are lists of nodes that the key node has outgoing edges to.\n",
    "\n",
    "    damping_factor : float, optional\n",
    "        Damping factor. The probability that the user will continue to another\n",
    "        page at random, rather than following a link from the current page.\n",
    "\n",
    "    max_iter : int, optional\n",
    "        Maximum number of iterations to run the PageRank algorithm.\n",
    "\n",
    "    tol : float, optional\n",
    "        Tolerance for convergence.\n",
    "\n",
    "    Returns\n",
    "    -------\n",
    "    pagerank_scores : dict\n",
    "        A dictionary where the keys represent the nodes in the graph and the\n",
    "        values are their corresponding PageRank scores.\n",
    "    \"\"\"\n",
    "\n",
    "    # Get the set of nodes in the graph\n",
    "    nodes = set(adj_list.keys())\n",
    "\n",
    "    # Compute the size of the adjacency matrix\n",
    "    n = len(nodes)\n",
    "\n",
    "    # Create a dictionary that maps nodes to their indices in the matrix\n",
    "    node_index = {node: index for index, node in enumerate(nodes)}\n",
    "\n",
    "    # Create a sparse matrix representation of the adjacency matrix\n",
    "    adj_matrix = dok_matrix((n, n), dtype=np.float64)\n",
    "    for node, out_nodes in adj_list.items():\n",
    "        for out_node in out_nodes:\n",
    "            adj_matrix[node_index[node], node_index[out_node]] = 1\n",
    "\n",
    "    # Compute the out-degree of each node\n",
    "    out_degree = np.array(adj_matrix.sum(axis=1)).flatten()\n",
    "\n",
    "    # Initialize the PageRank scores\n",
    "    pagerank_scores = np.ones(n) / n\n",
    "\n",
    "    # Compute the matrix M\n",
    "    M = (1 - damping_factor) / n + damping_factor * adj_matrix / out_degree[:, np.newaxis]\n",
    "\n",
    "    # Run the PageRank algorithm\n",
    "    for i in range(max_iter):\n",
    "        new_pagerank_scores = M.dot(pagerank_scores)\n",
    "        if norm(new_pagerank_scores - pagerank_scores, 1) < tol:\n",
    "            break\n",
    "        pagerank_scores = new_pagerank_scores\n",
    "\n",
    "    # Convert the PageRank scores to a dictionary\n",
    "    pagerank_dict = {node: pagerank_scores[node_index[node]] for node in nodes}\n",
    "\n",
    "    return pagerank_dict\n"
   ]
  },
  {
   "cell_type": "code",
   "execution_count": 46,
   "metadata": {},
   "outputs": [],
   "source": [
    "\n",
    "\n",
    "def create_adj_matrix(adj_list):\n",
    "    # Get the set of nodes in the graph\n",
    "    nodes = set(adj_list.keys())\n",
    "\n",
    "    # Convert the nodes to strings for use as dictionary keys\n",
    "    node_index = {str(node): index for index, node in enumerate(nodes)}\n",
    "\n",
    "    # Create an empty adjacency matrix\n",
    "    n = len(nodes)\n",
    "    adj_matrix = np.zeros((n, n))\n",
    "\n",
    "    # Fill in the adjacency matrix\n",
    "    for node, out_nodes in adj_list.items():\n",
    "        for out_node in out_nodes:\n",
    "            adj_matrix[node_index[str(node)], node_index[str(out_node)]] = 1\n",
    "\n",
    "    # Compute the out-degree of each node\n",
    "    out_degree = np.sum(adj_matrix, axis=1)\n",
    "\n",
    "    # Replace 0's with 1's to avoid divide-by-zero errors\n",
    "    out_degree[out_degree == 0] = 1\n",
    "\n",
    "    # Normalize the adjacency matrix by the out-degree of each node\n",
    "    adj_matrix = adj_matrix / out_degree[:, np.newaxis]\n",
    "\n",
    "    return adj_matrix, node_index\n",
    "\n",
    "\n"
   ]
  },
  {
   "cell_type": "code",
   "execution_count": 48,
   "metadata": {},
   "outputs": [
    {
     "ename": "KeyError",
     "evalue": "'9304045,0.012048192771084338'",
     "output_type": "error",
     "traceback": [
      "\u001b[1;31m---------------------------------------------------------------------------\u001b[0m",
      "\u001b[1;31mKeyError\u001b[0m                                  Traceback (most recent call last)",
      "\u001b[1;32m<ipython-input-48-e219c142a36e>\u001b[0m in \u001b[0;36m<module>\u001b[1;34m\u001b[0m\n\u001b[0;32m      2\u001b[0m \u001b[1;33m\u001b[0m\u001b[0m\n\u001b[0;32m      3\u001b[0m \u001b[1;31m# Compute the PageRank vector for the graph\u001b[0m\u001b[1;33m\u001b[0m\u001b[1;33m\u001b[0m\u001b[1;33m\u001b[0m\u001b[0m\n\u001b[1;32m----> 4\u001b[1;33m \u001b[0mR\u001b[0m \u001b[1;33m=\u001b[0m \u001b[0mpagerank\u001b[0m\u001b[1;33m(\u001b[0m\u001b[0mgraph\u001b[0m\u001b[1;33m)\u001b[0m\u001b[1;33m\u001b[0m\u001b[1;33m\u001b[0m\u001b[0m\n\u001b[0m",
      "\u001b[1;32m<ipython-input-47-807ff71e44e1>\u001b[0m in \u001b[0;36mpagerank\u001b[1;34m(adj_list, damping_factor, max_iter, tol)\u001b[0m\n\u001b[0;32m     45\u001b[0m     \u001b[1;32mfor\u001b[0m \u001b[0mnode\u001b[0m\u001b[1;33m,\u001b[0m \u001b[0mout_nodes\u001b[0m \u001b[1;32min\u001b[0m \u001b[0madj_list\u001b[0m\u001b[1;33m.\u001b[0m\u001b[0mitems\u001b[0m\u001b[1;33m(\u001b[0m\u001b[1;33m)\u001b[0m\u001b[1;33m:\u001b[0m\u001b[1;33m\u001b[0m\u001b[1;33m\u001b[0m\u001b[0m\n\u001b[0;32m     46\u001b[0m         \u001b[1;32mfor\u001b[0m \u001b[0mout_node\u001b[0m \u001b[1;32min\u001b[0m \u001b[0mout_nodes\u001b[0m\u001b[1;33m:\u001b[0m\u001b[1;33m\u001b[0m\u001b[1;33m\u001b[0m\u001b[0m\n\u001b[1;32m---> 47\u001b[1;33m             \u001b[0madj_matrix\u001b[0m\u001b[1;33m[\u001b[0m\u001b[0mnode_index\u001b[0m\u001b[1;33m[\u001b[0m\u001b[0mnode\u001b[0m\u001b[1;33m]\u001b[0m\u001b[1;33m,\u001b[0m \u001b[0mnode_index\u001b[0m\u001b[1;33m[\u001b[0m\u001b[0mout_node\u001b[0m\u001b[1;33m]\u001b[0m\u001b[1;33m]\u001b[0m \u001b[1;33m=\u001b[0m \u001b[1;36m1\u001b[0m\u001b[1;33m\u001b[0m\u001b[1;33m\u001b[0m\u001b[0m\n\u001b[0m\u001b[0;32m     48\u001b[0m \u001b[1;33m\u001b[0m\u001b[0m\n\u001b[0;32m     49\u001b[0m     \u001b[1;31m# Compute the out-degree of each node\u001b[0m\u001b[1;33m\u001b[0m\u001b[1;33m\u001b[0m\u001b[1;33m\u001b[0m\u001b[0m\n",
      "\u001b[1;31mKeyError\u001b[0m: '9304045,0.012048192771084338'"
     ]
    }
   ],
   "source": [
    "# Load the adjacency matrix from the file\n",
    "\n",
    "# Compute the PageRank vector for the graph\n",
    "R = pagerank(graph)\n"
   ]
  },
  {
   "cell_type": "markdown",
   "metadata": {},
   "source": [
    "Output a list of the 100 most important papers along with their importance"
   ]
  },
  {
   "cell_type": "code",
   "execution_count": null,
   "metadata": {},
   "outputs": [],
   "source": []
  },
  {
   "cell_type": "markdown",
   "metadata": {},
   "source": [
    "Visualize your results"
   ]
  },
  {
   "cell_type": "code",
   "execution_count": null,
   "metadata": {},
   "outputs": [],
   "source": []
  }
 ],
 "metadata": {
  "kernelspec": {
   "display_name": "Python 3",
   "language": "python",
   "name": "python3"
  },
  "language_info": {
   "codemirror_mode": {
    "name": "ipython",
    "version": 3
   },
   "file_extension": ".py",
   "mimetype": "text/x-python",
   "name": "python",
   "nbconvert_exporter": "python",
   "pygments_lexer": "ipython3",
   "version": "3.7.9"
  }
 },
 "nbformat": 4,
 "nbformat_minor": 5
}
