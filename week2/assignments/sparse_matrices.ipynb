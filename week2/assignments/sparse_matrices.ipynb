{
  "cells": [
    {
      "cell_type": "markdown",
      "metadata": {
        "id": "-SqR1I5k18VA"
      },
      "source": [
        "In this assignement, feel free to use the `sparse` module from `scipy`."
      ],
      "id": "-SqR1I5k18VA"
    },
    {
      "cell_type": "markdown",
      "metadata": {
        "id": "h_X_-LsL18VI"
      },
      "source": [
        "Use the cell below for your imports."
      ],
      "id": "h_X_-LsL18VI"
    },
    {
      "cell_type": "code",
      "execution_count": null,
      "metadata": {
        "id": "hiQtkVdH18VJ"
      },
      "outputs": [],
      "source": [
        "import numpy as np\n",
        "from scipy.sparse import coo_matrix\n",
        "from scipy.sparse import csr_matrix\n",
        "from scipy.sparse.linalg import spsolve\n"
      ],
      "id": "hiQtkVdH18VJ"
    },
    {
      "cell_type": "markdown",
      "metadata": {
        "id": "M0vmX8nl18VN"
      },
      "source": [
        "implement the function `mat_mul_coo` that takes two sparse matrices in `coo` and returns their product."
      ],
      "id": "M0vmX8nl18VN"
    },
    {
      "cell_type": "code",
      "execution_count": 16,
      "metadata": {
        "id": "TubddHjk18VO"
      },
      "outputs": [],
      "source": [
        "import numpy as np\n",
        "from scipy.sparse import coo_matrix\n",
        "\n",
        "def mat_mul_coo(matrix1, matrix2):\n",
        "    # perform matrix multiplication using COO format\n",
        "    result_data = []\n",
        "    result_row_indices = []\n",
        "    result_col_indices = []\n",
        "    for i,j in zip(matrix1.row, matrix1.col):\n",
        "        row = matrix1.getrow(i)\n",
        "        col = matrix2.getcol(j)\n",
        "        dot_product = row.dot(col)[0, 0]\n",
        "        if dot_product != 0:\n",
        "            result_data.append(dot_product)\n",
        "            result_row_indices.append(i)\n",
        "            result_col_indices.append(j)\n",
        "\n",
        "    # construct the resulting sparse matrix in COO format\n",
        "    result = coo_matrix((result_data, (result_row_indices, result_col_indices)), shape=(matrix1.shape[0], matrix2.shape[1]))\n",
        "    return result.toarray()"
      ],
      "id": "TubddHjk18VO"
    },
    {
      "cell_type": "code",
      "source": [
        "from scipy.sparse import coo_matrix\n",
        "\n",
        "# create two sparse matrices in COO format\n",
        "data1 = [1, 2, 3, 4, 5, 6, 7, 8, 9]\n",
        "row1 = [0, 0, 0, 1, 1, 1, 2, 2, 2]\n",
        "col1 = [0, 1, 2, 0, 1, 2, 0, 1, 2]\n",
        "\n",
        "data2 = [1, 0, 0, 0, 1, 0, 0, 0, 1]\n",
        "row2 = [0, 1, 2, 0, 1, 2, 0, 1, 2]\n",
        "col2 = [0, 1, 2, 0, 1, 2, 0, 1, 2]\n",
        "\n",
        "matrix1 = coo_matrix((data1, (row1, col1)))\n",
        "matrix2 = coo_matrix((data2, (row2, col2)))\n",
        "\n",
        "# perform matrix multiplication using COO format\n",
        "result = mat_mul_coo(matrix1, matrix2)\n",
        "\n",
        "# print the resulting sparse matrix in COO format\n",
        "print(result)"
      ],
      "metadata": {
        "colab": {
          "base_uri": "https://localhost:8080/"
        },
        "id": "yqhlyexCCj36",
        "outputId": "60e78e8c-f9a6-4a39-f22c-7ae578ed79c4"
      },
      "id": "yqhlyexCCj36",
      "execution_count": 18,
      "outputs": [
        {
          "output_type": "stream",
          "name": "stdout",
          "text": [
            "[[1 2 3]\n",
            " [4 5 6]\n",
            " [7 8 9]]\n"
          ]
        }
      ]
    },
    {
      "cell_type": "markdown",
      "metadata": {
        "id": "IZY1xVLv18VO"
      },
      "source": [
        "implement the function `mat_mul_csr` that takes two sparse matrices in `csr` format and returns their product."
      ],
      "id": "IZY1xVLv18VO"
    },
    {
      "cell_type": "code",
      "execution_count": 20,
      "metadata": {
        "id": "JYSvKITu18VP"
      },
      "outputs": [],
      "source": [
        "import numpy as np\n",
        "from scipy.sparse import csr_matrix\n",
        "\n",
        "def mat_mul_csr(matrix1, matrix2):\n",
        "    # perform matrix multiplication using CSR format\n",
        "    result_data = []\n",
        "    result_indices = []\n",
        "    result_indptr = [0]\n",
        "    for i in range(matrix1.shape[0]):\n",
        "        for j in range(matrix2.shape[1]):\n",
        "            dot_product = 0\n",
        "            for k in range(matrix1.shape[1]):\n",
        "                dot_product += matrix1[i,k] * matrix2[k,j]\n",
        "            if dot_product != 0:\n",
        "                result_data.append(dot_product)\n",
        "                result_indices.append(j)\n",
        "        result_indptr.append(len(result_data))\n",
        "\n",
        "    # construct the resulting sparse matrix in CSR format\n",
        "    result = csr_matrix((result_data, result_indices, result_indptr), shape=(matrix1.shape[0], matrix2.shape[1]))\n",
        "    return result.toarray()"
      ],
      "id": "JYSvKITu18VP"
    },
    {
      "cell_type": "code",
      "source": [
        "# create two sparse matrices in CSR format\n",
        "data1 = [1, 2, 3, 4, 5, 6, 7, 8, 9]\n",
        "indices1 = [0, 1, 2, 0, 1, 2, 0, 1, 2]\n",
        "indptr1 = [0, 3, 6, 9]\n",
        "matrix1 = csr_matrix((data1, indices1, indptr1), shape=(3, 3))\n",
        "\n",
        "data2 = [1, 0, 0, 0, 1, 0, 0, 0, 1]\n",
        "indices2 = [0, 1, 2, 0, 1, 2, 0, 1, 2]\n",
        "indptr2 = [0, 3, 6, 9]\n",
        "matrix2 = csr_matrix((data2, indices2, indptr2), shape=(3, 3))\n",
        "\n",
        "# perform matrix multiplication using CSR format\n",
        "result = mat_mul_csr(matrix1, matrix2)\n",
        "\n",
        "# print the resulting sparse matrix\n",
        "print(result)"
      ],
      "metadata": {
        "colab": {
          "base_uri": "https://localhost:8080/"
        },
        "id": "G1Z3Wzbn_g9l",
        "outputId": "be274ba8-fe3a-418a-993d-0381d999adc0"
      },
      "id": "G1Z3Wzbn_g9l",
      "execution_count": 21,
      "outputs": [
        {
          "output_type": "stream",
          "name": "stdout",
          "text": [
            "[[1 2 3]\n",
            " [4 5 6]\n",
            " [7 8 9]]\n"
          ]
        }
      ]
    },
    {
      "cell_type": "markdown",
      "metadata": {
        "id": "PwSvAOTM18VQ"
      },
      "source": [
        "implement a function `solve_lin_sys` that takes a matrix `A` in `csr` format and a vector `b` as a numpy array and solves the system `Ax = b`."
      ],
      "id": "PwSvAOTM18VQ"
    },
    {
      "cell_type": "code",
      "execution_count": 23,
      "metadata": {
        "id": "Qhof81kO18VR"
      },
      "outputs": [],
      "source": [
        "def solve_lin_sys(A, b):\n",
        "    # convert A to csr format if it's not already\n",
        "    if not isinstance(A, csr_matrix):\n",
        "        A = csr_matrix(A)\n",
        "    \n",
        "    # solve the system Ax = b\n",
        "    x = spsolve(A, b)\n",
        "    \n",
        "    return x"
      ],
      "id": "Qhof81kO18VR"
    },
    {
      "cell_type": "code",
      "source": [
        "# Example usage\n",
        "A = csr_matrix([[1, 2, 0], [0, 3, 4], [5, 0, 6]])\n",
        "b = np.array([1, 2, 3])\n",
        "\n",
        "x = solve_lin_sys(A, b)\n",
        "\n",
        "print(x)"
      ],
      "metadata": {
        "colab": {
          "base_uri": "https://localhost:8080/"
        },
        "id": "b-taAHVXJkuE",
        "outputId": "94e3133d-b0c4-449e-e468-e2ea7fd0f594"
      },
      "id": "b-taAHVXJkuE",
      "execution_count": 24,
      "outputs": [
        {
          "output_type": "stream",
          "name": "stdout",
          "text": [
            "[0.31034483 0.34482759 0.24137931]\n"
          ]
        }
      ]
    },
    {
      "cell_type": "code",
      "source": [],
      "metadata": {
        "id": "ntBgTaP4J3Hu"
      },
      "id": "ntBgTaP4J3Hu",
      "execution_count": null,
      "outputs": []
    }
  ],
  "metadata": {
    "kernelspec": {
      "display_name": "Python 3",
      "language": "python",
      "name": "python3"
    },
    "language_info": {
      "codemirror_mode": {
        "name": "ipython",
        "version": 3
      },
      "file_extension": ".py",
      "mimetype": "text/x-python",
      "name": "python",
      "nbconvert_exporter": "python",
      "pygments_lexer": "ipython3",
      "version": "3.7.9"
    },
    "colab": {
      "provenance": []
    }
  },
  "nbformat": 4,
  "nbformat_minor": 5
}